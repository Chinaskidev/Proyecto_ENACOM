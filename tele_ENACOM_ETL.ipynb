{
 "cells": [
  {
   "cell_type": "markdown",
   "metadata": {},
   "source": [
    "## ETL Extracción, transformación y carga."
   ]
  },
  {
   "cell_type": "markdown",
   "metadata": {},
   "source": [
    "- En esta etapa del proceso, llevaré a cabo una limpieza de los valores nulos y, además, identificaré y eliminaré duplicados en los datos que serán utilizados. La razón detrás de este paso es la preparación de los datos para un Análisis Exploratorio (EDA, por sus siglas en inglés) más efectivo. Aunque la consigna original no especifica la necesidad de este proceso, he decidido implementarlo por mi cuenta para asegurar que los datos estén en su mejor estado antes de abordar el análisis detallado en el EDA. Mantener los datos limpios y coherentes es fundamental para obtener resultados precisos y significativos en la fase posterior de exploración y modelado."
   ]
  },
  {
   "cell_type": "code",
   "execution_count": 5,
   "metadata": {},
   "outputs": [],
   "source": [
    "# Importo las librerias que usare. \n",
    "import pandas as pd \n",
    "import numpy as np"
   ]
  },
  {
   "cell_type": "markdown",
   "metadata": {},
   "source": [
    "* Iniciando el Proceso de ETL (Extraer, Transformar, Cargar)"
   ]
  },
  {
   "cell_type": "code",
   "execution_count": 20,
   "metadata": {},
   "outputs": [],
   "source": [
    "df1_mediabaja= pd.read_csv('.\\csvs\\historico_velocidad_internet (1).csv') # Lectura del primer csv."
   ]
  },
  {
   "cell_type": "code",
   "execution_count": 21,
   "metadata": {},
   "outputs": [
    {
     "data": {
      "text/html": [
       "<div>\n",
       "<style scoped>\n",
       "    .dataframe tbody tr th:only-of-type {\n",
       "        vertical-align: middle;\n",
       "    }\n",
       "\n",
       "    .dataframe tbody tr th {\n",
       "        vertical-align: top;\n",
       "    }\n",
       "\n",
       "    .dataframe thead th {\n",
       "        text-align: right;\n",
       "    }\n",
       "</style>\n",
       "<table border=\"1\" class=\"dataframe\">\n",
       "  <thead>\n",
       "    <tr style=\"text-align: right;\">\n",
       "      <th></th>\n",
       "      <th>Año</th>\n",
       "      <th>Trimestre</th>\n",
       "      <th>Provincia</th>\n",
       "      <th>Mbps (Media de bajada)</th>\n",
       "    </tr>\n",
       "  </thead>\n",
       "  <tbody>\n",
       "    <tr>\n",
       "      <th>0</th>\n",
       "      <td>2022</td>\n",
       "      <td>4</td>\n",
       "      <td>Buenos Aires</td>\n",
       "      <td>111.000</td>\n",
       "    </tr>\n",
       "    <tr>\n",
       "      <th>1</th>\n",
       "      <td>2022</td>\n",
       "      <td>4</td>\n",
       "      <td>Capital Federal</td>\n",
       "      <td>18.286</td>\n",
       "    </tr>\n",
       "    <tr>\n",
       "      <th>2</th>\n",
       "      <td>2022</td>\n",
       "      <td>4</td>\n",
       "      <td>Catamarca</td>\n",
       "      <td>8.333</td>\n",
       "    </tr>\n",
       "    <tr>\n",
       "      <th>3</th>\n",
       "      <td>2022</td>\n",
       "      <td>4</td>\n",
       "      <td>Chaco</td>\n",
       "      <td>10.402</td>\n",
       "    </tr>\n",
       "    <tr>\n",
       "      <th>4</th>\n",
       "      <td>2022</td>\n",
       "      <td>4</td>\n",
       "      <td>Chubut</td>\n",
       "      <td>1.592</td>\n",
       "    </tr>\n",
       "  </tbody>\n",
       "</table>\n",
       "</div>"
      ],
      "text/plain": [
       "    Año  Trimestre        Provincia  Mbps (Media de bajada)\n",
       "0  2022          4     Buenos Aires                 111.000\n",
       "1  2022          4  Capital Federal                  18.286\n",
       "2  2022          4        Catamarca                   8.333\n",
       "3  2022          4            Chaco                  10.402\n",
       "4  2022          4           Chubut                   1.592"
      ]
     },
     "execution_count": 21,
     "metadata": {},
     "output_type": "execute_result"
    }
   ],
   "source": [
    "df1_mediabaja.head() #  Muestro las primeras filas del DataFrame llamado \"df1_mediabaja\""
   ]
  },
  {
   "cell_type": "code",
   "execution_count": 22,
   "metadata": {},
   "outputs": [
    {
     "name": "stdout",
     "output_type": "stream",
     "text": [
      "<class 'pandas.core.frame.DataFrame'>\n",
      "RangeIndex: 864 entries, 0 to 863\n",
      "Data columns (total 4 columns):\n",
      " #   Column                  Non-Null Count  Dtype  \n",
      "---  ------                  --------------  -----  \n",
      " 0   Año                     864 non-null    int64  \n",
      " 1   Trimestre               864 non-null    int64  \n",
      " 2   Provincia               864 non-null    object \n",
      " 3   Mbps (Media de bajada)  864 non-null    float64\n",
      "dtypes: float64(1), int64(2), object(1)\n",
      "memory usage: 27.1+ KB\n"
     ]
    }
   ],
   "source": [
    "df1_mediabaja.info() # Muestro un resumen de el Dataframe"
   ]
  },
  {
   "cell_type": "code",
   "execution_count": 23,
   "metadata": {},
   "outputs": [
    {
     "name": "stdout",
     "output_type": "stream",
     "text": [
      "Shape: (864, 4)\n",
      "\n",
      "Datos faltantes:\n",
      "Año: 0 valores nulos\n",
      "Trimestre: 0 valores nulos\n",
      "Provincia: 0 valores nulos\n",
      "Mbps (Media de bajada): 0 valores nulos\n"
     ]
    }
   ],
   "source": [
    "def data_inspeccion(variables_num):\n",
    "    print(f'Shape: {variables_num.shape}') # Muestro la forma (número de filas y columnas) del DataFrame\n",
    "    print(f'\\nDatos faltantes:') # Esto imprime un encabezado indicando que se va a mostrar la cantidad de datos faltantes en el DataFrame.\n",
    "    for columna in variables_num.columns: # Este bucle itera a través de cada columna del DataFrame \n",
    "        cantidad_nulos = variables_num[columna].isnull().sum()  # Para cada columna, calcula la cantidad de valores nulos utilizando el método isnull()\n",
    "        print(f'{columna}: {cantidad_nulos} valores nulos') #  Imprime el nombre de la columna seguido de la cantidad de valores nulos encontrados.\n",
    "\n",
    "data_inspeccion(df1_mediabaja)"
   ]
  },
  {
   "cell_type": "code",
   "execution_count": 96,
   "metadata": {},
   "outputs": [
    {
     "data": {
      "text/plain": [
       "0"
      ]
     },
     "execution_count": 96,
     "metadata": {},
     "output_type": "execute_result"
    }
   ],
   "source": [
    "# Detecta si existen valores duplicados o filas completas duplicadas en un marco de datos.\n",
    "df1_mediabaja.duplicated().sum()"
   ]
  },
  {
   "cell_type": "code",
   "execution_count": 26,
   "metadata": {},
   "outputs": [],
   "source": [
    "df2_trimestrebajada= pd.read_csv('.\\csvs\\historico_velocidad_internet.csv') # # Lectura del segundo csv."
   ]
  },
  {
   "cell_type": "code",
   "execution_count": 27,
   "metadata": {},
   "outputs": [
    {
     "data": {
      "text/html": [
       "<div>\n",
       "<style scoped>\n",
       "    .dataframe tbody tr th:only-of-type {\n",
       "        vertical-align: middle;\n",
       "    }\n",
       "\n",
       "    .dataframe tbody tr th {\n",
       "        vertical-align: top;\n",
       "    }\n",
       "\n",
       "    .dataframe thead th {\n",
       "        text-align: right;\n",
       "    }\n",
       "</style>\n",
       "<table border=\"1\" class=\"dataframe\">\n",
       "  <thead>\n",
       "    <tr style=\"text-align: right;\">\n",
       "      <th></th>\n",
       "      <th>Año</th>\n",
       "      <th>Trimestre</th>\n",
       "      <th>Mbps (Media de bajada)</th>\n",
       "      <th>Trimestre.1</th>\n",
       "    </tr>\n",
       "  </thead>\n",
       "  <tbody>\n",
       "    <tr>\n",
       "      <th>0</th>\n",
       "      <td>2022</td>\n",
       "      <td>4</td>\n",
       "      <td>10.656</td>\n",
       "      <td>Oct-Dic 2022</td>\n",
       "    </tr>\n",
       "    <tr>\n",
       "      <th>1</th>\n",
       "      <td>2022</td>\n",
       "      <td>3</td>\n",
       "      <td>6.246</td>\n",
       "      <td>Jul-Sept 2022</td>\n",
       "    </tr>\n",
       "    <tr>\n",
       "      <th>2</th>\n",
       "      <td>2022</td>\n",
       "      <td>2</td>\n",
       "      <td>5.844</td>\n",
       "      <td>Abr-Jun 2022</td>\n",
       "    </tr>\n",
       "    <tr>\n",
       "      <th>3</th>\n",
       "      <td>2022</td>\n",
       "      <td>1</td>\n",
       "      <td>5.511</td>\n",
       "      <td>Ene-Mar 2022</td>\n",
       "    </tr>\n",
       "    <tr>\n",
       "      <th>4</th>\n",
       "      <td>2021</td>\n",
       "      <td>4</td>\n",
       "      <td>5.234</td>\n",
       "      <td>Oct-Dic 2021</td>\n",
       "    </tr>\n",
       "  </tbody>\n",
       "</table>\n",
       "</div>"
      ],
      "text/plain": [
       "    Año  Trimestre  Mbps (Media de bajada)    Trimestre.1\n",
       "0  2022          4                  10.656   Oct-Dic 2022\n",
       "1  2022          3                   6.246  Jul-Sept 2022\n",
       "2  2022          2                   5.844   Abr-Jun 2022\n",
       "3  2022          1                   5.511   Ene-Mar 2022\n",
       "4  2021          4                   5.234   Oct-Dic 2021"
      ]
     },
     "execution_count": 27,
     "metadata": {},
     "output_type": "execute_result"
    }
   ],
   "source": [
    "df2_trimestrebajada.head() # Muestro las primeras filas del DataFrame"
   ]
  },
  {
   "cell_type": "code",
   "execution_count": 28,
   "metadata": {},
   "outputs": [
    {
     "name": "stdout",
     "output_type": "stream",
     "text": [
      "<class 'pandas.core.frame.DataFrame'>\n",
      "RangeIndex: 36 entries, 0 to 35\n",
      "Data columns (total 4 columns):\n",
      " #   Column                  Non-Null Count  Dtype  \n",
      "---  ------                  --------------  -----  \n",
      " 0   Año                     36 non-null     int64  \n",
      " 1   Trimestre               36 non-null     int64  \n",
      " 2   Mbps (Media de bajada)  36 non-null     float64\n",
      " 3   Trimestre.1             36 non-null     object \n",
      "dtypes: float64(1), int64(2), object(1)\n",
      "memory usage: 1.3+ KB\n"
     ]
    }
   ],
   "source": [
    "df2_trimestrebajada.info() # Muestro un resumen de el Dataframe"
   ]
  },
  {
   "cell_type": "code",
   "execution_count": 29,
   "metadata": {},
   "outputs": [
    {
     "name": "stdout",
     "output_type": "stream",
     "text": [
      "Shape: (36, 4)\n",
      "\n",
      "Datos faltantes:\n",
      "Año: 0 valores nulos\n",
      "Trimestre: 0 valores nulos\n",
      "Mbps (Media de bajada): 0 valores nulos\n",
      "Trimestre.1: 0 valores nulos\n"
     ]
    }
   ],
   "source": [
    "def data_inspeccion(variables_num):\n",
    "    print(f'Shape: {variables_num.shape}')\n",
    "    \n",
    "    '''Aplico nuevamente la funcion para \n",
    "        encontrar valores nulos'''\n",
    "        \n",
    "    print(f'\\nDatos faltantes:')\n",
    "    for columna in variables_num.columns:\n",
    "        cantidad_nulos = variables_num[columna].isnull().sum()\n",
    "        print(f'{columna}: {cantidad_nulos} valores nulos')\n",
    "\n",
    "data_inspeccion(df2_trimestrebajada)"
   ]
  },
  {
   "cell_type": "code",
   "execution_count": 97,
   "metadata": {},
   "outputs": [
    {
     "data": {
      "text/plain": [
       "0"
      ]
     },
     "execution_count": 97,
     "metadata": {},
     "output_type": "execute_result"
    }
   ],
   "source": [
    "# Veo si existen valores duplicados o filas duplicadas.\n",
    "\n",
    "df2_trimestrebajada.duplicated().sum()"
   ]
  },
  {
   "cell_type": "code",
   "execution_count": 30,
   "metadata": {},
   "outputs": [],
   "source": [
    "df3= pd.read_csv('.\\csvs\\Internet_Accesos-por-tecnologia (1).csv') # Lectura del Tercer Dataframe"
   ]
  },
  {
   "cell_type": "code",
   "execution_count": 31,
   "metadata": {},
   "outputs": [
    {
     "data": {
      "text/html": [
       "<div>\n",
       "<style scoped>\n",
       "    .dataframe tbody tr th:only-of-type {\n",
       "        vertical-align: middle;\n",
       "    }\n",
       "\n",
       "    .dataframe tbody tr th {\n",
       "        vertical-align: top;\n",
       "    }\n",
       "\n",
       "    .dataframe thead th {\n",
       "        text-align: right;\n",
       "    }\n",
       "</style>\n",
       "<table border=\"1\" class=\"dataframe\">\n",
       "  <thead>\n",
       "    <tr style=\"text-align: right;\">\n",
       "      <th></th>\n",
       "      <th>Año</th>\n",
       "      <th>Trimestre</th>\n",
       "      <th>Provincia</th>\n",
       "      <th>ADSL</th>\n",
       "      <th>Cablemodem</th>\n",
       "      <th>Fibra óptica</th>\n",
       "      <th>Wireless</th>\n",
       "      <th>Otros</th>\n",
       "      <th>Total</th>\n",
       "    </tr>\n",
       "  </thead>\n",
       "  <tbody>\n",
       "    <tr>\n",
       "      <th>0</th>\n",
       "      <td>2022</td>\n",
       "      <td>4</td>\n",
       "      <td>Buenos Aires</td>\n",
       "      <td>326.0</td>\n",
       "      <td>3.0</td>\n",
       "      <td>1.0</td>\n",
       "      <td>130.0</td>\n",
       "      <td>72.0</td>\n",
       "      <td>5.0</td>\n",
       "    </tr>\n",
       "    <tr>\n",
       "      <th>1</th>\n",
       "      <td>2022</td>\n",
       "      <td>4</td>\n",
       "      <td>Capital Federal</td>\n",
       "      <td>139.0</td>\n",
       "      <td>1.0</td>\n",
       "      <td>139.0</td>\n",
       "      <td>5.0</td>\n",
       "      <td>32.0</td>\n",
       "      <td>2.0</td>\n",
       "    </tr>\n",
       "    <tr>\n",
       "      <th>2</th>\n",
       "      <td>2022</td>\n",
       "      <td>4</td>\n",
       "      <td>Catamarca</td>\n",
       "      <td>9.0</td>\n",
       "      <td>11.0</td>\n",
       "      <td>47.0</td>\n",
       "      <td>1.0</td>\n",
       "      <td>2.0</td>\n",
       "      <td>71.0</td>\n",
       "    </tr>\n",
       "    <tr>\n",
       "      <th>3</th>\n",
       "      <td>2022</td>\n",
       "      <td>4</td>\n",
       "      <td>Chaco</td>\n",
       "      <td>25.0</td>\n",
       "      <td>61.0</td>\n",
       "      <td>47.0</td>\n",
       "      <td>8.0</td>\n",
       "      <td>3.0</td>\n",
       "      <td>144.0</td>\n",
       "    </tr>\n",
       "    <tr>\n",
       "      <th>4</th>\n",
       "      <td>2022</td>\n",
       "      <td>4</td>\n",
       "      <td>Chubut</td>\n",
       "      <td>45.0</td>\n",
       "      <td>74.0</td>\n",
       "      <td>10.0</td>\n",
       "      <td>31.0</td>\n",
       "      <td>9.0</td>\n",
       "      <td>169.0</td>\n",
       "    </tr>\n",
       "  </tbody>\n",
       "</table>\n",
       "</div>"
      ],
      "text/plain": [
       "    Año Trimestre        Provincia   ADSL  Cablemodem  Fibra óptica  Wireless  \\\n",
       "0  2022         4     Buenos Aires  326.0         3.0           1.0     130.0   \n",
       "1  2022         4  Capital Federal  139.0         1.0         139.0       5.0   \n",
       "2  2022         4        Catamarca    9.0        11.0          47.0       1.0   \n",
       "3  2022         4            Chaco   25.0        61.0          47.0       8.0   \n",
       "4  2022         4           Chubut   45.0        74.0          10.0      31.0   \n",
       "\n",
       "   Otros  Total  \n",
       "0   72.0    5.0  \n",
       "1   32.0    2.0  \n",
       "2    2.0   71.0  \n",
       "3    3.0  144.0  \n",
       "4    9.0  169.0  "
      ]
     },
     "execution_count": 31,
     "metadata": {},
     "output_type": "execute_result"
    }
   ],
   "source": [
    "df3.head() # Visualizó las primeras filas"
   ]
  },
  {
   "cell_type": "code",
   "execution_count": 32,
   "metadata": {},
   "outputs": [
    {
     "name": "stdout",
     "output_type": "stream",
     "text": [
      "<class 'pandas.core.frame.DataFrame'>\n",
      "RangeIndex: 865 entries, 0 to 864\n",
      "Data columns (total 9 columns):\n",
      " #   Column        Non-Null Count  Dtype  \n",
      "---  ------        --------------  -----  \n",
      " 0   Año           865 non-null    object \n",
      " 1   Trimestre     865 non-null    object \n",
      " 2   Provincia     864 non-null    object \n",
      " 3   ADSL          864 non-null    float64\n",
      " 4   Cablemodem    864 non-null    float64\n",
      " 5   Fibra óptica  864 non-null    float64\n",
      " 6   Wireless      864 non-null    float64\n",
      " 7   Otros         864 non-null    float64\n",
      " 8   Total         864 non-null    float64\n",
      "dtypes: float64(6), object(3)\n",
      "memory usage: 60.9+ KB\n"
     ]
    }
   ],
   "source": [
    "df3.info()  # Un resumen de el Dataframe"
   ]
  },
  {
   "cell_type": "code",
   "execution_count": 33,
   "metadata": {},
   "outputs": [
    {
     "name": "stdout",
     "output_type": "stream",
     "text": [
      "Shape: (865, 9)\n",
      "\n",
      "Datos faltantes:\n",
      "Año: 0 valores nulos\n",
      "Trimestre: 0 valores nulos\n",
      "Provincia: 1 valores nulos\n",
      "ADSL: 1 valores nulos\n",
      "Cablemodem: 1 valores nulos\n",
      "Fibra óptica: 1 valores nulos\n",
      "Wireless: 1 valores nulos\n",
      "Otros: 1 valores nulos\n",
      "Total: 1 valores nulos\n"
     ]
    }
   ],
   "source": [
    "def data_inspeccion(variables_num):\n",
    "    print(f'Shape: {variables_num.shape}')\n",
    "    \n",
    "    '''Aplico nuevamente la funcion para \n",
    "        encontrar valores nulos'''\n",
    "        \n",
    "    print(f'\\nDatos faltantes:')\n",
    "    for columna in variables_num.columns:\n",
    "        cantidad_nulos = variables_num[columna].isnull().sum()\n",
    "        print(f'{columna}: {cantidad_nulos} valores nulos')\n",
    "\n",
    "data_inspeccion(df3)"
   ]
  },
  {
   "cell_type": "code",
   "execution_count": 34,
   "metadata": {},
   "outputs": [
    {
     "name": "stdout",
     "output_type": "stream",
     "text": [
      "Shape: (864, 9)\n",
      "\n",
      "Datos faltantes:\n",
      "Año: 0 valores nulos\n",
      "Trimestre: 0 valores nulos\n",
      "Provincia: 0 valores nulos\n",
      "ADSL: 0 valores nulos\n",
      "Cablemodem: 0 valores nulos\n",
      "Fibra óptica: 0 valores nulos\n",
      "Wireless: 0 valores nulos\n",
      "Otros: 0 valores nulos\n",
      "Total: 0 valores nulos\n"
     ]
    }
   ],
   "source": [
    "# Eliminare las filas con valores nulos \n",
    "df3.dropna(inplace=True)\n",
    "\n",
    "# Visualizó\n",
    "data_inspeccion(df3)"
   ]
  },
  {
   "cell_type": "code",
   "execution_count": 95,
   "metadata": {},
   "outputs": [
    {
     "data": {
      "text/plain": [
       "0"
      ]
     },
     "execution_count": 95,
     "metadata": {},
     "output_type": "execute_result"
    }
   ],
   "source": [
    "df3.duplicated().sum() # Veo si existen valores duplicados o filas duplicadas.\n"
   ]
  },
  {
   "cell_type": "code",
   "execution_count": 40,
   "metadata": {},
   "outputs": [],
   "source": [
    "df4_acceso_provincia= pd.read_csv('.\\csvs\\Internet_Accesos-por-velocidad (1).csv') # Lectura del Cuarto Dataframe"
   ]
  },
  {
   "cell_type": "code",
   "execution_count": 41,
   "metadata": {},
   "outputs": [
    {
     "data": {
      "text/html": [
       "<div>\n",
       "<style scoped>\n",
       "    .dataframe tbody tr th:only-of-type {\n",
       "        vertical-align: middle;\n",
       "    }\n",
       "\n",
       "    .dataframe tbody tr th {\n",
       "        vertical-align: top;\n",
       "    }\n",
       "\n",
       "    .dataframe thead th {\n",
       "        text-align: right;\n",
       "    }\n",
       "</style>\n",
       "<table border=\"1\" class=\"dataframe\">\n",
       "  <thead>\n",
       "    <tr style=\"text-align: right;\">\n",
       "      <th></th>\n",
       "      <th>Año</th>\n",
       "      <th>Trimestre</th>\n",
       "      <th>Provincia</th>\n",
       "      <th>HASTA 512 kbps</th>\n",
       "      <th>+ 512 Kbps - 1 Mbps</th>\n",
       "      <th>+ 1 Mbps - 6 Mbps</th>\n",
       "      <th>+ 6 Mbps - 10 Mbps</th>\n",
       "      <th>+ 10 Mbps - 20 Mbps</th>\n",
       "      <th>+ 20 Mbps - 30 Mbps</th>\n",
       "      <th>+ 30 Mbps</th>\n",
       "      <th>OTROS</th>\n",
       "      <th>Total</th>\n",
       "    </tr>\n",
       "  </thead>\n",
       "  <tbody>\n",
       "    <tr>\n",
       "      <th>0</th>\n",
       "      <td>2022</td>\n",
       "      <td>4</td>\n",
       "      <td>Buenos Aires</td>\n",
       "      <td>28.934</td>\n",
       "      <td>23.347</td>\n",
       "      <td>259.866</td>\n",
       "      <td>281.550</td>\n",
       "      <td>244.555</td>\n",
       "      <td>98.670</td>\n",
       "      <td>3.760.109</td>\n",
       "      <td>97.634</td>\n",
       "      <td>4.794.665</td>\n",
       "    </tr>\n",
       "    <tr>\n",
       "      <th>1</th>\n",
       "      <td>2022</td>\n",
       "      <td>4</td>\n",
       "      <td>Capital Federal</td>\n",
       "      <td>516.000</td>\n",
       "      <td>5.096</td>\n",
       "      <td>31.320</td>\n",
       "      <td>64.653</td>\n",
       "      <td>36.336</td>\n",
       "      <td>8.116</td>\n",
       "      <td>1.299.117</td>\n",
       "      <td>106.772</td>\n",
       "      <td>1.551.926</td>\n",
       "    </tr>\n",
       "    <tr>\n",
       "      <th>2</th>\n",
       "      <td>2022</td>\n",
       "      <td>4</td>\n",
       "      <td>Catamarca</td>\n",
       "      <td>71.000</td>\n",
       "      <td>315.000</td>\n",
       "      <td>2.716</td>\n",
       "      <td>5.028</td>\n",
       "      <td>4.638</td>\n",
       "      <td>3.122</td>\n",
       "      <td>52.739</td>\n",
       "      <td>2.280</td>\n",
       "      <td>70.909</td>\n",
       "    </tr>\n",
       "    <tr>\n",
       "      <th>3</th>\n",
       "      <td>2022</td>\n",
       "      <td>4</td>\n",
       "      <td>Chaco</td>\n",
       "      <td>461.000</td>\n",
       "      <td>771.000</td>\n",
       "      <td>16.067</td>\n",
       "      <td>17.846</td>\n",
       "      <td>6.704</td>\n",
       "      <td>3.039</td>\n",
       "      <td>94.866</td>\n",
       "      <td>3.909</td>\n",
       "      <td>143.663</td>\n",
       "    </tr>\n",
       "    <tr>\n",
       "      <th>4</th>\n",
       "      <td>2022</td>\n",
       "      <td>4</td>\n",
       "      <td>Chubut</td>\n",
       "      <td>109.000</td>\n",
       "      <td>1.614</td>\n",
       "      <td>46.457</td>\n",
       "      <td>31.007</td>\n",
       "      <td>34.728</td>\n",
       "      <td>15.770</td>\n",
       "      <td>19.048</td>\n",
       "      <td>20.026</td>\n",
       "      <td>168.759</td>\n",
       "    </tr>\n",
       "  </tbody>\n",
       "</table>\n",
       "</div>"
      ],
      "text/plain": [
       "    Año  Trimestre        Provincia  HASTA 512 kbps  + 512 Kbps - 1 Mbps  \\\n",
       "0  2022          4     Buenos Aires          28.934               23.347   \n",
       "1  2022          4  Capital Federal         516.000                5.096   \n",
       "2  2022          4        Catamarca          71.000              315.000   \n",
       "3  2022          4            Chaco         461.000              771.000   \n",
       "4  2022          4           Chubut         109.000                1.614   \n",
       "\n",
       "  + 1 Mbps - 6 Mbps  + 6 Mbps - 10 Mbps  + 10 Mbps - 20 Mbps  \\\n",
       "0           259.866             281.550              244.555   \n",
       "1            31.320              64.653               36.336   \n",
       "2             2.716               5.028                4.638   \n",
       "3            16.067              17.846                6.704   \n",
       "4            46.457              31.007               34.728   \n",
       "\n",
       "   + 20 Mbps - 30 Mbps  + 30 Mbps    OTROS      Total  \n",
       "0               98.670  3.760.109   97.634  4.794.665  \n",
       "1                8.116  1.299.117  106.772  1.551.926  \n",
       "2                3.122     52.739    2.280     70.909  \n",
       "3                3.039     94.866    3.909    143.663  \n",
       "4               15.770     19.048   20.026    168.759  "
      ]
     },
     "execution_count": 41,
     "metadata": {},
     "output_type": "execute_result"
    }
   ],
   "source": [
    "df4_acceso_provincia.head() # Muestro las primeras filas"
   ]
  },
  {
   "cell_type": "code",
   "execution_count": 42,
   "metadata": {},
   "outputs": [
    {
     "name": "stdout",
     "output_type": "stream",
     "text": [
      "Shape: (864, 12)\n",
      "\n",
      "Datos faltantes:\n",
      "Año: 0 valores nulos\n",
      "Trimestre: 0 valores nulos\n",
      "Provincia: 0 valores nulos\n",
      "HASTA 512 kbps: 0 valores nulos\n",
      "+ 512 Kbps - 1 Mbps: 0 valores nulos\n",
      "+ 1 Mbps - 6 Mbps: 0 valores nulos\n",
      "+ 6 Mbps - 10 Mbps: 0 valores nulos\n",
      "+ 10 Mbps - 20 Mbps: 0 valores nulos\n",
      "+ 20 Mbps - 30 Mbps: 0 valores nulos\n",
      "+ 30 Mbps: 0 valores nulos\n",
      "OTROS: 6 valores nulos\n",
      "Total: 0 valores nulos\n"
     ]
    }
   ],
   "source": [
    "def data_inspeccion(variables_num):\n",
    "    print(f'Shape: {variables_num.shape}')\n",
    "    \n",
    "    '''Aplico nuevamente la funcion para \n",
    "        encontrar valores nulos'''\n",
    "        \n",
    "    print(f'\\nDatos faltantes:')\n",
    "    for columna in variables_num.columns:\n",
    "        cantidad_nulos = variables_num[columna].isnull().sum()\n",
    "        print(f'{columna}: {cantidad_nulos} valores nulos')\n",
    "\n",
    "data_inspeccion(df4_acceso_provincia)"
   ]
  },
  {
   "cell_type": "code",
   "execution_count": 98,
   "metadata": {},
   "outputs": [
    {
     "data": {
      "text/plain": [
       "0"
      ]
     },
     "execution_count": 98,
     "metadata": {},
     "output_type": "execute_result"
    }
   ],
   "source": [
    "df4_acceso_provincia.duplicated().sum() # Uso el metodo duplicated para ver si hay duplicados."
   ]
  },
  {
   "cell_type": "code",
   "execution_count": 43,
   "metadata": {},
   "outputs": [],
   "source": [
    "df5_acceso_trimes= pd.read_csv('.\\csvs\\Internet_Accesos-por-velocidad.csv') # Lectura del Quinto Dataframe"
   ]
  },
  {
   "cell_type": "code",
   "execution_count": 44,
   "metadata": {},
   "outputs": [
    {
     "data": {
      "text/html": [
       "<div>\n",
       "<style scoped>\n",
       "    .dataframe tbody tr th:only-of-type {\n",
       "        vertical-align: middle;\n",
       "    }\n",
       "\n",
       "    .dataframe tbody tr th {\n",
       "        vertical-align: top;\n",
       "    }\n",
       "\n",
       "    .dataframe thead th {\n",
       "        text-align: right;\n",
       "    }\n",
       "</style>\n",
       "<table border=\"1\" class=\"dataframe\">\n",
       "  <thead>\n",
       "    <tr style=\"text-align: right;\">\n",
       "      <th></th>\n",
       "      <th>Año</th>\n",
       "      <th>Trimestre</th>\n",
       "      <th>Hasta 512 kbps</th>\n",
       "      <th>Entre 512 Kbps y 1 Mbps</th>\n",
       "      <th>Entre 1 Mbps y 6 Mbps</th>\n",
       "      <th>Entre 6 Mbps y 10 Mbps</th>\n",
       "      <th>Entre 10 Mbps y 20 Mbps</th>\n",
       "      <th>Entre 20 Mbps y 30 Mbps</th>\n",
       "      <th>Más de 30 Mbps</th>\n",
       "      <th>OTROS</th>\n",
       "      <th>Total</th>\n",
       "    </tr>\n",
       "  </thead>\n",
       "  <tbody>\n",
       "    <tr>\n",
       "      <th>0</th>\n",
       "      <td>2022</td>\n",
       "      <td>4</td>\n",
       "      <td>31.981</td>\n",
       "      <td>85.668</td>\n",
       "      <td>1.075.272</td>\n",
       "      <td>1.109.421</td>\n",
       "      <td>765.015</td>\n",
       "      <td>335.573</td>\n",
       "      <td>7.410.902</td>\n",
       "      <td>394.282</td>\n",
       "      <td>11.208.114</td>\n",
       "    </tr>\n",
       "    <tr>\n",
       "      <th>1</th>\n",
       "      <td>2022</td>\n",
       "      <td>3</td>\n",
       "      <td>33.013</td>\n",
       "      <td>96.727</td>\n",
       "      <td>1.161.370</td>\n",
       "      <td>1.151.906</td>\n",
       "      <td>823.505</td>\n",
       "      <td>479.822</td>\n",
       "      <td>6.995.750</td>\n",
       "      <td>349.035</td>\n",
       "      <td>11.091.128</td>\n",
       "    </tr>\n",
       "    <tr>\n",
       "      <th>2</th>\n",
       "      <td>2022</td>\n",
       "      <td>2</td>\n",
       "      <td>33.667</td>\n",
       "      <td>99.498</td>\n",
       "      <td>1.193.090</td>\n",
       "      <td>1.197.030</td>\n",
       "      <td>856.562</td>\n",
       "      <td>485.321</td>\n",
       "      <td>6.741.922</td>\n",
       "      <td>351.594</td>\n",
       "      <td>10.958.684</td>\n",
       "    </tr>\n",
       "    <tr>\n",
       "      <th>3</th>\n",
       "      <td>2022</td>\n",
       "      <td>1</td>\n",
       "      <td>34.890</td>\n",
       "      <td>104.840</td>\n",
       "      <td>1.263.273</td>\n",
       "      <td>1.209.148</td>\n",
       "      <td>967.508</td>\n",
       "      <td>509.830</td>\n",
       "      <td>6.336.187</td>\n",
       "      <td>198.333</td>\n",
       "      <td>10.624.009</td>\n",
       "    </tr>\n",
       "    <tr>\n",
       "      <th>4</th>\n",
       "      <td>2021</td>\n",
       "      <td>4</td>\n",
       "      <td>41.262</td>\n",
       "      <td>28.521</td>\n",
       "      <td>1.413.208</td>\n",
       "      <td>1.245.333</td>\n",
       "      <td>976.539</td>\n",
       "      <td>558.358</td>\n",
       "      <td>6.032.322</td>\n",
       "      <td>194.251</td>\n",
       "      <td>10.489.794</td>\n",
       "    </tr>\n",
       "  </tbody>\n",
       "</table>\n",
       "</div>"
      ],
      "text/plain": [
       "    Año  Trimestre  Hasta 512 kbps  Entre 512 Kbps y 1 Mbps  \\\n",
       "0  2022          4          31.981                   85.668   \n",
       "1  2022          3          33.013                   96.727   \n",
       "2  2022          2          33.667                   99.498   \n",
       "3  2022          1          34.890                  104.840   \n",
       "4  2021          4          41.262                   28.521   \n",
       "\n",
       "  Entre 1 Mbps y 6 Mbps Entre 6 Mbps y 10 Mbps Entre 10 Mbps y 20 Mbps  \\\n",
       "0             1.075.272              1.109.421                 765.015   \n",
       "1             1.161.370              1.151.906                 823.505   \n",
       "2             1.193.090              1.197.030                 856.562   \n",
       "3             1.263.273              1.209.148                 967.508   \n",
       "4             1.413.208              1.245.333                 976.539   \n",
       "\n",
       "  Entre 20 Mbps y 30 Mbps Más de 30 Mbps    OTROS       Total  \n",
       "0                 335.573      7.410.902  394.282  11.208.114  \n",
       "1                 479.822      6.995.750  349.035  11.091.128  \n",
       "2                 485.321      6.741.922  351.594  10.958.684  \n",
       "3                 509.830      6.336.187  198.333  10.624.009  \n",
       "4                 558.358      6.032.322  194.251  10.489.794  "
      ]
     },
     "execution_count": 44,
     "metadata": {},
     "output_type": "execute_result"
    }
   ],
   "source": [
    "df5_acceso_trimes.head() # Muestro primeras filas."
   ]
  },
  {
   "cell_type": "code",
   "execution_count": 45,
   "metadata": {},
   "outputs": [
    {
     "name": "stdout",
     "output_type": "stream",
     "text": [
      "Shape: (36, 11)\n",
      "\n",
      "Datos faltantes:\n",
      "Año: 0 valores nulos\n",
      "Trimestre: 0 valores nulos\n",
      "Hasta 512 kbps: 0 valores nulos\n",
      "Entre 512 Kbps y 1 Mbps: 0 valores nulos\n",
      "Entre 1 Mbps y 6 Mbps: 0 valores nulos\n",
      "Entre 6 Mbps y 10 Mbps: 0 valores nulos\n",
      "Entre 10 Mbps y 20 Mbps: 0 valores nulos\n",
      "Entre 20 Mbps y 30 Mbps: 0 valores nulos\n",
      "Más de 30 Mbps: 0 valores nulos\n",
      "OTROS: 0 valores nulos\n",
      "Total: 0 valores nulos\n"
     ]
    }
   ],
   "source": [
    "def data_inspeccion(variables_num):\n",
    "    print(f'Shape: {variables_num.shape}')\n",
    "    \n",
    "    '''Aplico nuevamente la funcion para \n",
    "        encontrar valores nulos'''\n",
    "    print(f'\\nDatos faltantes:')\n",
    "    for columna in variables_num.columns:\n",
    "        cantidad_nulos = variables_num[columna].isnull().sum()\n",
    "        print(f'{columna}: {cantidad_nulos} valores nulos')\n",
    "\n",
    "data_inspeccion(df5_acceso_trimes)"
   ]
  },
  {
   "cell_type": "code",
   "execution_count": 99,
   "metadata": {},
   "outputs": [
    {
     "data": {
      "text/plain": [
       "0"
      ]
     },
     "execution_count": 99,
     "metadata": {},
     "output_type": "execute_result"
    }
   ],
   "source": [
    "df5_acceso_trimes.duplicated().sum() # Observo si tiene duplicados."
   ]
  },
  {
   "cell_type": "code",
   "execution_count": 52,
   "metadata": {},
   "outputs": [],
   "source": [
    "df6_baf1_provincia= pd.read_csv('.\\csvs\\Internet_BAF (1).csv') # Lectura del Sexto Dataframe"
   ]
  },
  {
   "cell_type": "code",
   "execution_count": 53,
   "metadata": {},
   "outputs": [
    {
     "data": {
      "text/html": [
       "<div>\n",
       "<style scoped>\n",
       "    .dataframe tbody tr th:only-of-type {\n",
       "        vertical-align: middle;\n",
       "    }\n",
       "\n",
       "    .dataframe tbody tr th {\n",
       "        vertical-align: top;\n",
       "    }\n",
       "\n",
       "    .dataframe thead th {\n",
       "        text-align: right;\n",
       "    }\n",
       "</style>\n",
       "<table border=\"1\" class=\"dataframe\">\n",
       "  <thead>\n",
       "    <tr style=\"text-align: right;\">\n",
       "      <th></th>\n",
       "      <th>Año</th>\n",
       "      <th>Trimestre</th>\n",
       "      <th>Provincia</th>\n",
       "      <th>Banda ancha fija</th>\n",
       "      <th>Dial up</th>\n",
       "      <th>Total</th>\n",
       "    </tr>\n",
       "  </thead>\n",
       "  <tbody>\n",
       "    <tr>\n",
       "      <th>0</th>\n",
       "      <td>2022</td>\n",
       "      <td>4</td>\n",
       "      <td>Buenos Aires</td>\n",
       "      <td>5</td>\n",
       "      <td>6.0</td>\n",
       "      <td>5</td>\n",
       "    </tr>\n",
       "    <tr>\n",
       "      <th>1</th>\n",
       "      <td>2022</td>\n",
       "      <td>4</td>\n",
       "      <td>Capital Federal</td>\n",
       "      <td>2</td>\n",
       "      <td>2.0</td>\n",
       "      <td>2</td>\n",
       "    </tr>\n",
       "    <tr>\n",
       "      <th>2</th>\n",
       "      <td>2022</td>\n",
       "      <td>4</td>\n",
       "      <td>Catamarca</td>\n",
       "      <td>71</td>\n",
       "      <td>1.0</td>\n",
       "      <td>71</td>\n",
       "    </tr>\n",
       "    <tr>\n",
       "      <th>3</th>\n",
       "      <td>2022</td>\n",
       "      <td>4</td>\n",
       "      <td>Chaco</td>\n",
       "      <td>144</td>\n",
       "      <td>5.0</td>\n",
       "      <td>144</td>\n",
       "    </tr>\n",
       "    <tr>\n",
       "      <th>4</th>\n",
       "      <td>2022</td>\n",
       "      <td>4</td>\n",
       "      <td>Chubut</td>\n",
       "      <td>168</td>\n",
       "      <td>904.0</td>\n",
       "      <td>169</td>\n",
       "    </tr>\n",
       "  </tbody>\n",
       "</table>\n",
       "</div>"
      ],
      "text/plain": [
       "    Año  Trimestre        Provincia  Banda ancha fija  Dial up  Total\n",
       "0  2022          4     Buenos Aires                 5      6.0      5\n",
       "1  2022          4  Capital Federal                 2      2.0      2\n",
       "2  2022          4        Catamarca                71      1.0     71\n",
       "3  2022          4            Chaco               144      5.0    144\n",
       "4  2022          4           Chubut               168    904.0    169"
      ]
     },
     "execution_count": 53,
     "metadata": {},
     "output_type": "execute_result"
    }
   ],
   "source": [
    "df6_baf1_provincia.head() # Muestro las primera filas"
   ]
  },
  {
   "cell_type": "code",
   "execution_count": 54,
   "metadata": {},
   "outputs": [
    {
     "name": "stdout",
     "output_type": "stream",
     "text": [
      "Shape: (864, 6)\n",
      "\n",
      "Datos faltantes:\n",
      "Año: 0 valores nulos\n",
      "Trimestre: 0 valores nulos\n",
      "Provincia: 0 valores nulos\n",
      "Banda ancha fija: 0 valores nulos\n",
      "Dial up: 2 valores nulos\n",
      "Total: 0 valores nulos\n"
     ]
    }
   ],
   "source": [
    "def data_inspeccion(variables_num):\n",
    "    print(f'Shape: {variables_num.shape}')\n",
    "    \n",
    "    '''Aplico nuevamente la funcion para \n",
    "        encontrar valores nulos'''\n",
    "        \n",
    "    print(f'\\nDatos faltantes:')\n",
    "    for columna in variables_num.columns:\n",
    "        cantidad_nulos = variables_num[columna].isnull().sum()\n",
    "        print(f'{columna}: {cantidad_nulos} valores nulos')\n",
    "\n",
    "data_inspeccion(df6_baf1_provincia)"
   ]
  },
  {
   "cell_type": "code",
   "execution_count": 55,
   "metadata": {},
   "outputs": [
    {
     "name": "stdout",
     "output_type": "stream",
     "text": [
      "Shape: (862, 6)\n",
      "\n",
      "Datos faltantes:\n",
      "Año: 0 valores nulos\n",
      "Trimestre: 0 valores nulos\n",
      "Provincia: 0 valores nulos\n",
      "Banda ancha fija: 0 valores nulos\n",
      "Dial up: 0 valores nulos\n",
      "Total: 0 valores nulos\n"
     ]
    }
   ],
   "source": [
    "# Eliminare las filas con valores nulos \n",
    "df6_baf1_provincia.dropna(inplace=True)\n",
    "\n",
    "# Visualizó\n",
    "data_inspeccion(df6_baf1_provincia)"
   ]
  },
  {
   "cell_type": "code",
   "execution_count": 100,
   "metadata": {},
   "outputs": [
    {
     "data": {
      "text/plain": [
       "0"
      ]
     },
     "execution_count": 100,
     "metadata": {},
     "output_type": "execute_result"
    }
   ],
   "source": [
    "df6_baf1_provincia.duplicated().sum() # Uso el metodo duplicated, por si tiene duplicados."
   ]
  },
  {
   "cell_type": "code",
   "execution_count": 56,
   "metadata": {},
   "outputs": [],
   "source": [
    "df7_baf_trimes= pd.read_csv('.\\csvs\\Internet_BAF.csv') # Lectura del Septimo Dataframe"
   ]
  },
  {
   "cell_type": "code",
   "execution_count": 57,
   "metadata": {},
   "outputs": [
    {
     "data": {
      "text/html": [
       "<div>\n",
       "<style scoped>\n",
       "    .dataframe tbody tr th:only-of-type {\n",
       "        vertical-align: middle;\n",
       "    }\n",
       "\n",
       "    .dataframe tbody tr th {\n",
       "        vertical-align: top;\n",
       "    }\n",
       "\n",
       "    .dataframe thead th {\n",
       "        text-align: right;\n",
       "    }\n",
       "</style>\n",
       "<table border=\"1\" class=\"dataframe\">\n",
       "  <thead>\n",
       "    <tr style=\"text-align: right;\">\n",
       "      <th></th>\n",
       "      <th>Año</th>\n",
       "      <th>Trimestre</th>\n",
       "      <th>Banda ancha fija</th>\n",
       "      <th>Dial up</th>\n",
       "      <th>Total</th>\n",
       "      <th>Periodo</th>\n",
       "    </tr>\n",
       "  </thead>\n",
       "  <tbody>\n",
       "    <tr>\n",
       "      <th>0</th>\n",
       "      <td>2022</td>\n",
       "      <td>4</td>\n",
       "      <td>11</td>\n",
       "      <td>12</td>\n",
       "      <td>11</td>\n",
       "      <td>Oct-Dic 2022</td>\n",
       "    </tr>\n",
       "    <tr>\n",
       "      <th>1</th>\n",
       "      <td>2022</td>\n",
       "      <td>3</td>\n",
       "      <td>11</td>\n",
       "      <td>12</td>\n",
       "      <td>11</td>\n",
       "      <td>Jul-Sept 2022</td>\n",
       "    </tr>\n",
       "    <tr>\n",
       "      <th>2</th>\n",
       "      <td>2022</td>\n",
       "      <td>2</td>\n",
       "      <td>11</td>\n",
       "      <td>12</td>\n",
       "      <td>11</td>\n",
       "      <td>Abr-Jun 2022</td>\n",
       "    </tr>\n",
       "    <tr>\n",
       "      <th>3</th>\n",
       "      <td>2022</td>\n",
       "      <td>1</td>\n",
       "      <td>11</td>\n",
       "      <td>13</td>\n",
       "      <td>11</td>\n",
       "      <td>Ene-Mar 2022</td>\n",
       "    </tr>\n",
       "    <tr>\n",
       "      <th>4</th>\n",
       "      <td>2021</td>\n",
       "      <td>4</td>\n",
       "      <td>10</td>\n",
       "      <td>13</td>\n",
       "      <td>10</td>\n",
       "      <td>Oct-Dic 2021</td>\n",
       "    </tr>\n",
       "  </tbody>\n",
       "</table>\n",
       "</div>"
      ],
      "text/plain": [
       "    Año  Trimestre  Banda ancha fija  Dial up  Total        Periodo\n",
       "0  2022          4                11       12     11   Oct-Dic 2022\n",
       "1  2022          3                11       12     11  Jul-Sept 2022\n",
       "2  2022          2                11       12     11   Abr-Jun 2022\n",
       "3  2022          1                11       13     11   Ene-Mar 2022\n",
       "4  2021          4                10       13     10   Oct-Dic 2021"
      ]
     },
     "execution_count": 57,
     "metadata": {},
     "output_type": "execute_result"
    }
   ],
   "source": [
    "df7_baf_trimes.head() # Visualizo las primeras filas."
   ]
  },
  {
   "cell_type": "code",
   "execution_count": 58,
   "metadata": {},
   "outputs": [
    {
     "name": "stdout",
     "output_type": "stream",
     "text": [
      "Shape: (36, 6)\n",
      "\n",
      "Datos faltantes:\n",
      "Año: 0 valores nulos\n",
      "Trimestre: 0 valores nulos\n",
      "Banda ancha fija: 0 valores nulos\n",
      "Dial up: 0 valores nulos\n",
      "Total: 0 valores nulos\n",
      "Periodo: 0 valores nulos\n"
     ]
    }
   ],
   "source": [
    "def data_inspeccion(variables_num):\n",
    "    print(f'Shape: {variables_num.shape}')\n",
    "    '''Aplico nuevamente la funcion para \n",
    "        encontrar valores nulos'''\n",
    "    print(f'\\nDatos faltantes:')\n",
    "    for columna in variables_num.columns:\n",
    "        cantidad_nulos = variables_num[columna].isnull().sum()\n",
    "        print(f'{columna}: {cantidad_nulos} valores nulos')\n",
    "\n",
    "data_inspeccion(df7_baf_trimes)"
   ]
  },
  {
   "cell_type": "code",
   "execution_count": 101,
   "metadata": {},
   "outputs": [
    {
     "data": {
      "text/plain": [
       "0"
      ]
     },
     "execution_count": 101,
     "metadata": {},
     "output_type": "execute_result"
    }
   ],
   "source": [
    "df7_baf_trimes.duplicated().sum() # Veo si tiene duplicados."
   ]
  },
  {
   "cell_type": "code",
   "execution_count": 59,
   "metadata": {},
   "outputs": [],
   "source": [
    "df8_ingresos= pd.read_csv('.\\csvs\\Internet_Ingresos.csv') # Lectura del Octavo Dataframe"
   ]
  },
  {
   "cell_type": "code",
   "execution_count": 60,
   "metadata": {},
   "outputs": [
    {
     "data": {
      "text/html": [
       "<div>\n",
       "<style scoped>\n",
       "    .dataframe tbody tr th:only-of-type {\n",
       "        vertical-align: middle;\n",
       "    }\n",
       "\n",
       "    .dataframe tbody tr th {\n",
       "        vertical-align: top;\n",
       "    }\n",
       "\n",
       "    .dataframe thead th {\n",
       "        text-align: right;\n",
       "    }\n",
       "</style>\n",
       "<table border=\"1\" class=\"dataframe\">\n",
       "  <thead>\n",
       "    <tr style=\"text-align: right;\">\n",
       "      <th></th>\n",
       "      <th>Año</th>\n",
       "      <th>Trimestre</th>\n",
       "      <th>Ingresos (miles de pesos)</th>\n",
       "      <th>Periodo</th>\n",
       "    </tr>\n",
       "  </thead>\n",
       "  <tbody>\n",
       "    <tr>\n",
       "      <th>0</th>\n",
       "      <td>2022</td>\n",
       "      <td>4</td>\n",
       "      <td>72</td>\n",
       "      <td>Oct-Dic 2022</td>\n",
       "    </tr>\n",
       "    <tr>\n",
       "      <th>1</th>\n",
       "      <td>2022</td>\n",
       "      <td>3</td>\n",
       "      <td>64</td>\n",
       "      <td>Jul-Sept 2022</td>\n",
       "    </tr>\n",
       "    <tr>\n",
       "      <th>2</th>\n",
       "      <td>2022</td>\n",
       "      <td>2</td>\n",
       "      <td>60</td>\n",
       "      <td>Abr-Jun 2022</td>\n",
       "    </tr>\n",
       "    <tr>\n",
       "      <th>3</th>\n",
       "      <td>2022</td>\n",
       "      <td>1</td>\n",
       "      <td>55</td>\n",
       "      <td>Ene-Mar 2022</td>\n",
       "    </tr>\n",
       "    <tr>\n",
       "      <th>4</th>\n",
       "      <td>2021</td>\n",
       "      <td>4</td>\n",
       "      <td>45</td>\n",
       "      <td>Oct-Dic 2021</td>\n",
       "    </tr>\n",
       "  </tbody>\n",
       "</table>\n",
       "</div>"
      ],
      "text/plain": [
       "    Año  Trimestre  Ingresos (miles de pesos)        Periodo\n",
       "0  2022          4                         72   Oct-Dic 2022\n",
       "1  2022          3                         64  Jul-Sept 2022\n",
       "2  2022          2                         60   Abr-Jun 2022\n",
       "3  2022          1                         55   Ene-Mar 2022\n",
       "4  2021          4                         45   Oct-Dic 2021"
      ]
     },
     "execution_count": 60,
     "metadata": {},
     "output_type": "execute_result"
    }
   ],
   "source": [
    "df8_ingresos.head() # Visualizo las primeras filas"
   ]
  },
  {
   "cell_type": "code",
   "execution_count": 61,
   "metadata": {},
   "outputs": [
    {
     "name": "stdout",
     "output_type": "stream",
     "text": [
      "Shape: (36, 4)\n",
      "\n",
      "Datos faltantes:\n",
      "Año: 0 valores nulos\n",
      "Trimestre: 0 valores nulos\n",
      "Ingresos (miles de pesos): 0 valores nulos\n",
      "Periodo: 0 valores nulos\n"
     ]
    }
   ],
   "source": [
    "def data_inspeccion(variables_num):\n",
    "    print(f'Shape: {variables_num.shape}')\n",
    "    '''Aplico nuevamente la funcion para \n",
    "        encontrar valores nulos'''\n",
    "    print(f'\\nDatos faltantes:')\n",
    "    for columna in variables_num.columns:\n",
    "        cantidad_nulos = variables_num[columna].isnull().sum()\n",
    "        print(f'{columna}: {cantidad_nulos} valores nulos')\n",
    "\n",
    "data_inspeccion(df8_ingresos)"
   ]
  },
  {
   "cell_type": "code",
   "execution_count": 102,
   "metadata": {},
   "outputs": [
    {
     "data": {
      "text/plain": [
       "0"
      ]
     },
     "execution_count": 102,
     "metadata": {},
     "output_type": "execute_result"
    }
   ],
   "source": [
    "df8_ingresos.duplicated().sum() # veo si tiene duplicados."
   ]
  },
  {
   "cell_type": "code",
   "execution_count": 66,
   "metadata": {},
   "outputs": [],
   "source": [
    "df9_intertecnoporlocalidad= pd.read_csv('.\\csvs\\Internetfijoportecnologiaylocalidad.csv') # Lectura del Noveno Dataframe"
   ]
  },
  {
   "cell_type": "code",
   "execution_count": 67,
   "metadata": {},
   "outputs": [
    {
     "data": {
      "text/html": [
       "<div>\n",
       "<style scoped>\n",
       "    .dataframe tbody tr th:only-of-type {\n",
       "        vertical-align: middle;\n",
       "    }\n",
       "\n",
       "    .dataframe tbody tr th {\n",
       "        vertical-align: top;\n",
       "    }\n",
       "\n",
       "    .dataframe thead th {\n",
       "        text-align: right;\n",
       "    }\n",
       "</style>\n",
       "<table border=\"1\" class=\"dataframe\">\n",
       "  <thead>\n",
       "    <tr style=\"text-align: right;\">\n",
       "      <th></th>\n",
       "      <th>Provincia</th>\n",
       "      <th>Partido</th>\n",
       "      <th>Localidad</th>\n",
       "      <th>Link Indec</th>\n",
       "      <th>ADSL</th>\n",
       "      <th>CABLEMODEM</th>\n",
       "      <th>DIAL UP</th>\n",
       "      <th>FIBRA OPTICA</th>\n",
       "      <th>OTROS</th>\n",
       "      <th>SATELITAL</th>\n",
       "      <th>WIMAX</th>\n",
       "      <th>WIRELESS</th>\n",
       "      <th>Total general</th>\n",
       "      <th>Unnamed: 13</th>\n",
       "    </tr>\n",
       "  </thead>\n",
       "  <tbody>\n",
       "    <tr>\n",
       "      <th>0</th>\n",
       "      <td>BUENOS AIRES</td>\n",
       "      <td>25 de Mayo</td>\n",
       "      <td>25 de Mayo</td>\n",
       "      <td>6854100</td>\n",
       "      <td>874</td>\n",
       "      <td>4,54</td>\n",
       "      <td>- 0</td>\n",
       "      <td>3</td>\n",
       "      <td>- 0</td>\n",
       "      <td>852</td>\n",
       "      <td>- 0</td>\n",
       "      <td>706</td>\n",
       "      <td>6,98</td>\n",
       "      <td>NaN</td>\n",
       "    </tr>\n",
       "    <tr>\n",
       "      <th>1</th>\n",
       "      <td>BUENOS AIRES</td>\n",
       "      <td>25 de Mayo</td>\n",
       "      <td>Del Valle</td>\n",
       "      <td>6854020</td>\n",
       "      <td>181</td>\n",
       "      <td>- 0</td>\n",
       "      <td>- 0</td>\n",
       "      <td>- 0</td>\n",
       "      <td>10</td>\n",
       "      <td>1</td>\n",
       "      <td>- 0</td>\n",
       "      <td>- 0</td>\n",
       "      <td>192</td>\n",
       "      <td>NaN</td>\n",
       "    </tr>\n",
       "    <tr>\n",
       "      <th>2</th>\n",
       "      <td>BUENOS AIRES</td>\n",
       "      <td>25 de Mayo</td>\n",
       "      <td>Gobernador Ugarte</td>\n",
       "      <td>6854040</td>\n",
       "      <td>- 0</td>\n",
       "      <td>- 0</td>\n",
       "      <td>- 0</td>\n",
       "      <td>- 0</td>\n",
       "      <td>- 0</td>\n",
       "      <td>- 0</td>\n",
       "      <td>- 0</td>\n",
       "      <td>181</td>\n",
       "      <td>181</td>\n",
       "      <td>NaN</td>\n",
       "    </tr>\n",
       "    <tr>\n",
       "      <th>3</th>\n",
       "      <td>BUENOS AIRES</td>\n",
       "      <td>25 de Mayo</td>\n",
       "      <td>Norberto de la Riestra</td>\n",
       "      <td>6854060</td>\n",
       "      <td>- 0</td>\n",
       "      <td>782</td>\n",
       "      <td>- 0</td>\n",
       "      <td>6</td>\n",
       "      <td>167</td>\n",
       "      <td>- 0</td>\n",
       "      <td>- 0</td>\n",
       "      <td>327</td>\n",
       "      <td>1,28</td>\n",
       "      <td>NaN</td>\n",
       "    </tr>\n",
       "    <tr>\n",
       "      <th>4</th>\n",
       "      <td>BUENOS AIRES</td>\n",
       "      <td>25 de Mayo</td>\n",
       "      <td>Lucas Monteverde</td>\n",
       "      <td>6854050</td>\n",
       "      <td>- 0</td>\n",
       "      <td>- 0</td>\n",
       "      <td>- 0</td>\n",
       "      <td>- 0</td>\n",
       "      <td>- 0</td>\n",
       "      <td>- 0</td>\n",
       "      <td>- 0</td>\n",
       "      <td>6</td>\n",
       "      <td>6</td>\n",
       "      <td>NaN</td>\n",
       "    </tr>\n",
       "  </tbody>\n",
       "</table>\n",
       "</div>"
      ],
      "text/plain": [
       "      Provincia     Partido               Localidad Link Indec ADSL  \\\n",
       "0  BUENOS AIRES  25 de Mayo              25 de Mayo    6854100  874   \n",
       "1  BUENOS AIRES  25 de Mayo               Del Valle    6854020  181   \n",
       "2  BUENOS AIRES  25 de Mayo       Gobernador Ugarte    6854040  - 0   \n",
       "3  BUENOS AIRES  25 de Mayo  Norberto de la Riestra    6854060  - 0   \n",
       "4  BUENOS AIRES  25 de Mayo        Lucas Monteverde    6854050  - 0   \n",
       "\n",
       "  CABLEMODEM DIAL UP FIBRA OPTICA OTROS SATELITAL WIMAX WIRELESS  \\\n",
       "0       4,54     - 0            3   - 0       852   - 0      706   \n",
       "1        - 0     - 0          - 0    10         1   - 0      - 0   \n",
       "2        - 0     - 0          - 0   - 0       - 0   - 0      181   \n",
       "3        782     - 0            6   167       - 0   - 0      327   \n",
       "4        - 0     - 0          - 0   - 0       - 0   - 0        6   \n",
       "\n",
       "  Total general  Unnamed: 13  \n",
       "0          6,98          NaN  \n",
       "1           192          NaN  \n",
       "2           181          NaN  \n",
       "3          1,28          NaN  \n",
       "4             6          NaN  "
      ]
     },
     "execution_count": 67,
     "metadata": {},
     "output_type": "execute_result"
    }
   ],
   "source": [
    "df9_intertecnoporlocalidad.head() # Veo las primeras filas"
   ]
  },
  {
   "cell_type": "code",
   "execution_count": 68,
   "metadata": {},
   "outputs": [
    {
     "name": "stdout",
     "output_type": "stream",
     "text": [
      "<class 'pandas.core.frame.DataFrame'>\n",
      "RangeIndex: 3137 entries, 0 to 3136\n",
      "Data columns (total 14 columns):\n",
      " #   Column         Non-Null Count  Dtype  \n",
      "---  ------         --------------  -----  \n",
      " 0   Provincia      3137 non-null   object \n",
      " 1   Partido        3137 non-null   object \n",
      " 2   Localidad      3137 non-null   object \n",
      " 3   Link Indec     3137 non-null   object \n",
      " 4   ADSL           3137 non-null   object \n",
      " 5   CABLEMODEM     3137 non-null   object \n",
      " 6   DIAL UP        3137 non-null   object \n",
      " 7   FIBRA OPTICA   3137 non-null   object \n",
      " 8   OTROS          3137 non-null   object \n",
      " 9   SATELITAL      3137 non-null   object \n",
      " 10  WIMAX          3137 non-null   object \n",
      " 11  WIRELESS       3137 non-null   object \n",
      " 12  Total general  3137 non-null   object \n",
      " 13  Unnamed: 13    0 non-null      float64\n",
      "dtypes: float64(1), object(13)\n",
      "memory usage: 343.2+ KB\n"
     ]
    }
   ],
   "source": [
    "df9_intertecnoporlocalidad.info() # Un resumen de el Dataframe"
   ]
  },
  {
   "cell_type": "code",
   "execution_count": 73,
   "metadata": {},
   "outputs": [
    {
     "name": "stdout",
     "output_type": "stream",
     "text": [
      "Shape: (3137, 14)\n",
      "\n",
      "Datos faltantes:\n",
      "Provincia: 0 valores nulos\n",
      "Partido: 0 valores nulos\n",
      "Localidad: 0 valores nulos\n",
      "Link Indec: 0 valores nulos\n",
      "ADSL: 0 valores nulos\n",
      "CABLEMODEM: 0 valores nulos\n",
      "DIAL UP: 0 valores nulos\n",
      "FIBRA OPTICA: 0 valores nulos\n",
      "OTROS: 0 valores nulos\n",
      "SATELITAL: 0 valores nulos\n",
      "WIMAX: 0 valores nulos\n",
      "WIRELESS: 0 valores nulos\n",
      "Total general: 0 valores nulos\n",
      "Unnamed: 13: 3137 valores nulos\n"
     ]
    }
   ],
   "source": [
    "def data_inspeccion(variables_num):\n",
    "    print(f'Shape: {variables_num.shape}')\n",
    "    '''Aplico nuevamente la funcion para \n",
    "        encontrar valores nulos'''\n",
    "    print(f'\\nDatos faltantes:')\n",
    "    for columna in variables_num.columns:\n",
    "        cantidad_nulos = variables_num[columna].isnull().sum()\n",
    "        print(f'{columna}: {cantidad_nulos} valores nulos')\n",
    "\n",
    "data_inspeccion(df9_intertecnoporlocalidad)"
   ]
  },
  {
   "cell_type": "code",
   "execution_count": 103,
   "metadata": {},
   "outputs": [
    {
     "data": {
      "text/plain": [
       "0"
      ]
     },
     "execution_count": 103,
     "metadata": {},
     "output_type": "execute_result"
    }
   ],
   "source": [
    "df9_intertecnoporlocalidad.duplicated().sum() # veo si tiene duplicados"
   ]
  },
  {
   "cell_type": "code",
   "execution_count": 71,
   "metadata": {},
   "outputs": [],
   "source": [
    "df10_interpor_velobajaprovincia= pd.read_csv('.\\csvs\\Internetfijoporvelocidadbajadayprovincia.csv') # Lectura del Decimo Dataframe"
   ]
  },
  {
   "cell_type": "code",
   "execution_count": 72,
   "metadata": {},
   "outputs": [
    {
     "data": {
      "text/html": [
       "<div>\n",
       "<style scoped>\n",
       "    .dataframe tbody tr th:only-of-type {\n",
       "        vertical-align: middle;\n",
       "    }\n",
       "\n",
       "    .dataframe tbody tr th {\n",
       "        vertical-align: top;\n",
       "    }\n",
       "\n",
       "    .dataframe thead th {\n",
       "        text-align: right;\n",
       "    }\n",
       "</style>\n",
       "<table border=\"1\" class=\"dataframe\">\n",
       "  <thead>\n",
       "    <tr style=\"text-align: right;\">\n",
       "      <th></th>\n",
       "      <th>Año</th>\n",
       "      <th>Trimestre</th>\n",
       "      <th>Provincia</th>\n",
       "      <th>Otros</th>\n",
       "      <th>0,256 Mbps</th>\n",
       "      <th>0,375 Mbps</th>\n",
       "      <th>0,625 Mbps</th>\n",
       "      <th>0,5 Mbps</th>\n",
       "      <th>0,512 Mbps</th>\n",
       "      <th>0,75 Mbps</th>\n",
       "      <th>...</th>\n",
       "      <th>63 Mbps</th>\n",
       "      <th>64 Mbps</th>\n",
       "      <th>65 Mbps</th>\n",
       "      <th>66 Mbps</th>\n",
       "      <th>67 Mbps</th>\n",
       "      <th>68 Mbps</th>\n",
       "      <th>70 Mbps</th>\n",
       "      <th>71 Mbps</th>\n",
       "      <th>75 Mbps</th>\n",
       "      <th>77 Mbps</th>\n",
       "    </tr>\n",
       "  </thead>\n",
       "  <tbody>\n",
       "    <tr>\n",
       "      <th>0</th>\n",
       "      <td>2022.0</td>\n",
       "      <td>4.0</td>\n",
       "      <td>Buenos Aires</td>\n",
       "      <td>97.634</td>\n",
       "      <td>18</td>\n",
       "      <td>- 0</td>\n",
       "      <td>- 0</td>\n",
       "      <td>28.724</td>\n",
       "      <td>192</td>\n",
       "      <td>4.611</td>\n",
       "      <td>...</td>\n",
       "      <td>- 0</td>\n",
       "      <td>- 0</td>\n",
       "      <td>14</td>\n",
       "      <td>- 0</td>\n",
       "      <td>- 0</td>\n",
       "      <td>- 0</td>\n",
       "      <td>5.655</td>\n",
       "      <td>- 0</td>\n",
       "      <td>90.796</td>\n",
       "      <td>- 0</td>\n",
       "    </tr>\n",
       "    <tr>\n",
       "      <th>1</th>\n",
       "      <td>2022.0</td>\n",
       "      <td>4.0</td>\n",
       "      <td>Capital Federal</td>\n",
       "      <td>106.772</td>\n",
       "      <td>31</td>\n",
       "      <td>- 0</td>\n",
       "      <td>- 0</td>\n",
       "      <td>451.000</td>\n",
       "      <td>34</td>\n",
       "      <td>1.307</td>\n",
       "      <td>...</td>\n",
       "      <td>- 0</td>\n",
       "      <td>- 0</td>\n",
       "      <td>- 0</td>\n",
       "      <td>1</td>\n",
       "      <td>- 0</td>\n",
       "      <td>- 0</td>\n",
       "      <td>15</td>\n",
       "      <td>- 0</td>\n",
       "      <td>28.406</td>\n",
       "      <td>- 0</td>\n",
       "    </tr>\n",
       "    <tr>\n",
       "      <th>2</th>\n",
       "      <td>2022.0</td>\n",
       "      <td>4.0</td>\n",
       "      <td>Catamarca</td>\n",
       "      <td>2.280</td>\n",
       "      <td>- 0</td>\n",
       "      <td>- 0</td>\n",
       "      <td>- 0</td>\n",
       "      <td>34.000</td>\n",
       "      <td>37</td>\n",
       "      <td>- 0</td>\n",
       "      <td>...</td>\n",
       "      <td>- 0</td>\n",
       "      <td>- 0</td>\n",
       "      <td>- 0</td>\n",
       "      <td>- 0</td>\n",
       "      <td>- 0</td>\n",
       "      <td>- 0</td>\n",
       "      <td>- 0</td>\n",
       "      <td>- 0</td>\n",
       "      <td>- 0</td>\n",
       "      <td>- 0</td>\n",
       "    </tr>\n",
       "    <tr>\n",
       "      <th>3</th>\n",
       "      <td>2022.0</td>\n",
       "      <td>4.0</td>\n",
       "      <td>Chaco</td>\n",
       "      <td>3.909</td>\n",
       "      <td>- 0</td>\n",
       "      <td>225</td>\n",
       "      <td>111</td>\n",
       "      <td>234.000</td>\n",
       "      <td>2</td>\n",
       "      <td>- 0</td>\n",
       "      <td>...</td>\n",
       "      <td>- 0</td>\n",
       "      <td>- 0</td>\n",
       "      <td>- 0</td>\n",
       "      <td>- 0</td>\n",
       "      <td>- 0</td>\n",
       "      <td>- 0</td>\n",
       "      <td>- 0</td>\n",
       "      <td>- 0</td>\n",
       "      <td>- 0</td>\n",
       "      <td>- 0</td>\n",
       "    </tr>\n",
       "    <tr>\n",
       "      <th>4</th>\n",
       "      <td>2022.0</td>\n",
       "      <td>4.0</td>\n",
       "      <td>Chubut</td>\n",
       "      <td>20.026</td>\n",
       "      <td>8</td>\n",
       "      <td>- 0</td>\n",
       "      <td>- 0</td>\n",
       "      <td>69.000</td>\n",
       "      <td>32</td>\n",
       "      <td>836</td>\n",
       "      <td>...</td>\n",
       "      <td>- 0</td>\n",
       "      <td>- 0</td>\n",
       "      <td>- 0</td>\n",
       "      <td>- 0</td>\n",
       "      <td>- 0</td>\n",
       "      <td>- 0</td>\n",
       "      <td>- 0</td>\n",
       "      <td>- 0</td>\n",
       "      <td>- 0</td>\n",
       "      <td>- 0</td>\n",
       "    </tr>\n",
       "  </tbody>\n",
       "</table>\n",
       "<p>5 rows × 97 columns</p>\n",
       "</div>"
      ],
      "text/plain": [
       "      Año  Trimestre        Provincia    Otros 0,256 Mbps 0,375 Mbps  \\\n",
       "0  2022.0        4.0     Buenos Aires   97.634         18        - 0   \n",
       "1  2022.0        4.0  Capital Federal  106.772         31        - 0   \n",
       "2  2022.0        4.0        Catamarca    2.280        - 0        - 0   \n",
       "3  2022.0        4.0            Chaco    3.909        - 0        225   \n",
       "4  2022.0        4.0           Chubut   20.026          8        - 0   \n",
       "\n",
       "  0,625 Mbps  0,5 Mbps 0,512 Mbps 0,75 Mbps  ... 63 Mbps 64 Mbps 65 Mbps  \\\n",
       "0        - 0    28.724        192     4.611  ...     - 0     - 0      14   \n",
       "1        - 0   451.000         34     1.307  ...     - 0     - 0     - 0   \n",
       "2        - 0    34.000         37       - 0  ...     - 0     - 0     - 0   \n",
       "3        111   234.000          2       - 0  ...     - 0     - 0     - 0   \n",
       "4        - 0    69.000         32       836  ...     - 0     - 0     - 0   \n",
       "\n",
       "  66 Mbps 67 Mbps 68 Mbps 70 Mbps 71 Mbps  75 Mbps 77 Mbps  \n",
       "0     - 0     - 0     - 0   5.655     - 0   90.796     - 0  \n",
       "1       1     - 0     - 0      15     - 0   28.406     - 0  \n",
       "2     - 0     - 0     - 0     - 0     - 0      - 0     - 0  \n",
       "3     - 0     - 0     - 0     - 0     - 0      - 0     - 0  \n",
       "4     - 0     - 0     - 0     - 0     - 0      - 0     - 0  \n",
       "\n",
       "[5 rows x 97 columns]"
      ]
     },
     "execution_count": 72,
     "metadata": {},
     "output_type": "execute_result"
    }
   ],
   "source": [
    "df10_interpor_velobajaprovincia.head() # Visualizo las primeras filas"
   ]
  },
  {
   "cell_type": "code",
   "execution_count": 74,
   "metadata": {},
   "outputs": [
    {
     "name": "stdout",
     "output_type": "stream",
     "text": [
      "Shape: (505, 97)\n",
      "\n",
      "Datos faltantes:\n",
      "Año: 1 valores nulos\n",
      "Trimestre: 1 valores nulos\n",
      "Provincia: 1 valores nulos\n",
      "Otros: 1 valores nulos\n",
      "0,256 Mbps: 1 valores nulos\n",
      "0,375 Mbps: 1 valores nulos\n",
      "0,625 Mbps: 1 valores nulos\n",
      "0,5 Mbps: 1 valores nulos\n",
      "0,512 Mbps: 1 valores nulos\n",
      "0,75 Mbps: 1 valores nulos\n",
      "1 Mbps: 1 valores nulos\n",
      "1,2 Mbps: 1 valores nulos\n",
      "1,25 Mbps: 1 valores nulos\n",
      "1,5 Mbps: 1 valores nulos\n",
      "2 Mbps: 1 valores nulos\n",
      "2,2 Mbps: 1 valores nulos\n",
      "2,5 Mbps: 0 valores nulos\n",
      "6,7 Mbps: 1 valores nulos\n",
      "3 Mbps: 1 valores nulos\n",
      "3,2 Mbps: 1 valores nulos\n",
      "3,3 Mbps: 1 valores nulos\n",
      "3,5 Mbps: 1 valores nulos\n",
      "4 Mbps: 1 valores nulos\n",
      "4,5 Mbps: 1 valores nulos\n",
      "5 Mbps: 1 valores nulos\n",
      "6 Mbps: 1 valores nulos\n",
      "6,4 Mbps: 1 valores nulos\n",
      "7 Mbps: 1 valores nulos\n",
      "7,5 Mbps: 1 valores nulos\n",
      "8 Mbps: 1 valores nulos\n",
      "9 Mbps: 1 valores nulos\n",
      "10 Mbps: 1 valores nulos\n",
      "10,2 Mbps: 1 valores nulos\n",
      "10,6 Mbps: 1 valores nulos\n",
      "11 Mbps: 1 valores nulos\n",
      "12 Mbps: 1 valores nulos\n",
      "12,3 Mbps: 1 valores nulos\n",
      "13 Mbps: 1 valores nulos\n",
      "14 Mbps: 1 valores nulos\n",
      "15 Mbps: 1 valores nulos\n",
      "16 Mbps: 1 valores nulos\n",
      "17 Mbps: 1 valores nulos\n",
      "18 Mbps: 1 valores nulos\n",
      "19 Mbps: 1 valores nulos\n",
      "20 Mbps: 1 valores nulos\n",
      "20,5 Mbps: 1 valores nulos\n",
      "21 Mbps: 1 valores nulos\n",
      "22 Mbps: 1 valores nulos\n",
      "23 Mbps: 1 valores nulos\n",
      "24 Mbps: 1 valores nulos\n",
      "25 Mbps: 1 valores nulos\n",
      "25,1 Mbps: 1 valores nulos\n",
      "25,11 Mbps: 1 valores nulos\n",
      "25,5 Mbps: 1 valores nulos\n",
      "26 Mbps: 1 valores nulos\n",
      "27 Mbps: 1 valores nulos\n",
      "28 Mbps: 1 valores nulos\n",
      "29 Mbps: 1 valores nulos\n",
      "30 Mbps: 1 valores nulos\n",
      "31 Mbps: 1 valores nulos\n",
      "32 Mbps: 1 valores nulos\n",
      "34 Mbps: 1 valores nulos\n",
      "35 Mbps: 1 valores nulos\n",
      "36 Mbps: 1 valores nulos\n",
      "37 Mbps: 1 valores nulos\n",
      "38 Mbps: 1 valores nulos\n",
      "39 Mbps: 1 valores nulos\n",
      "40 Mbps: 1 valores nulos\n",
      "41 Mbps: 1 valores nulos\n",
      "45 Mbps: 1 valores nulos\n",
      "46 Mbps: 1 valores nulos\n",
      "47 Mbps: 1 valores nulos\n",
      "48 Mbps: 1 valores nulos\n",
      "49 Mbps: 1 valores nulos\n",
      "50 Mbps: 1 valores nulos\n",
      "50,1 Mbps: 1 valores nulos\n",
      "51 Mbps: 1 valores nulos\n",
      "50,25 Mbps: 1 valores nulos\n",
      "52 Mbps: 1 valores nulos\n",
      "54 Mbps: 1 valores nulos\n",
      "55 Mbps: 1 valores nulos\n",
      "56 Mbps: 1 valores nulos\n",
      "58 Mbps: 1 valores nulos\n",
      "59 Mbps: 1 valores nulos\n",
      "60 Mbps: 1 valores nulos\n",
      "61 Mbps: 1 valores nulos\n",
      "62 Mbps: 1 valores nulos\n",
      "63 Mbps: 1 valores nulos\n",
      "64 Mbps: 1 valores nulos\n",
      "65 Mbps: 1 valores nulos\n",
      "66 Mbps: 1 valores nulos\n",
      "67 Mbps: 1 valores nulos\n",
      "68 Mbps: 1 valores nulos\n",
      "70 Mbps: 1 valores nulos\n",
      "71 Mbps: 1 valores nulos\n",
      "75 Mbps: 1 valores nulos\n",
      "77 Mbps: 1 valores nulos\n"
     ]
    }
   ],
   "source": [
    "def data_inspeccion(variables_num):\n",
    "    print(f'Shape: {variables_num.shape}')\n",
    "    '''Aplico nuevamente la funcion para \n",
    "        encontrar valores nulos'''\n",
    "    print(f'\\nDatos faltantes:')\n",
    "    for columna in variables_num.columns:\n",
    "        cantidad_nulos = variables_num[columna].isnull().sum()\n",
    "        print(f'{columna}: {cantidad_nulos} valores nulos')\n",
    "\n",
    "data_inspeccion(df10_interpor_velobajaprovincia)"
   ]
  },
  {
   "cell_type": "code",
   "execution_count": 75,
   "metadata": {},
   "outputs": [
    {
     "name": "stdout",
     "output_type": "stream",
     "text": [
      "Shape: (504, 97)\n",
      "\n",
      "Datos faltantes:\n",
      "Año: 0 valores nulos\n",
      "Trimestre: 0 valores nulos\n",
      "Provincia: 0 valores nulos\n",
      "Otros: 0 valores nulos\n",
      "0,256 Mbps: 0 valores nulos\n",
      "0,375 Mbps: 0 valores nulos\n",
      "0,625 Mbps: 0 valores nulos\n",
      "0,5 Mbps: 0 valores nulos\n",
      "0,512 Mbps: 0 valores nulos\n",
      "0,75 Mbps: 0 valores nulos\n",
      "1 Mbps: 0 valores nulos\n",
      "1,2 Mbps: 0 valores nulos\n",
      "1,25 Mbps: 0 valores nulos\n",
      "1,5 Mbps: 0 valores nulos\n",
      "2 Mbps: 0 valores nulos\n",
      "2,2 Mbps: 0 valores nulos\n",
      "2,5 Mbps: 0 valores nulos\n",
      "6,7 Mbps: 0 valores nulos\n",
      "3 Mbps: 0 valores nulos\n",
      "3,2 Mbps: 0 valores nulos\n",
      "3,3 Mbps: 0 valores nulos\n",
      "3,5 Mbps: 0 valores nulos\n",
      "4 Mbps: 0 valores nulos\n",
      "4,5 Mbps: 0 valores nulos\n",
      "5 Mbps: 0 valores nulos\n",
      "6 Mbps: 0 valores nulos\n",
      "6,4 Mbps: 0 valores nulos\n",
      "7 Mbps: 0 valores nulos\n",
      "7,5 Mbps: 0 valores nulos\n",
      "8 Mbps: 0 valores nulos\n",
      "9 Mbps: 0 valores nulos\n",
      "10 Mbps: 0 valores nulos\n",
      "10,2 Mbps: 0 valores nulos\n",
      "10,6 Mbps: 0 valores nulos\n",
      "11 Mbps: 0 valores nulos\n",
      "12 Mbps: 0 valores nulos\n",
      "12,3 Mbps: 0 valores nulos\n",
      "13 Mbps: 0 valores nulos\n",
      "14 Mbps: 0 valores nulos\n",
      "15 Mbps: 0 valores nulos\n",
      "16 Mbps: 0 valores nulos\n",
      "17 Mbps: 0 valores nulos\n",
      "18 Mbps: 0 valores nulos\n",
      "19 Mbps: 0 valores nulos\n",
      "20 Mbps: 0 valores nulos\n",
      "20,5 Mbps: 0 valores nulos\n",
      "21 Mbps: 0 valores nulos\n",
      "22 Mbps: 0 valores nulos\n",
      "23 Mbps: 0 valores nulos\n",
      "24 Mbps: 0 valores nulos\n",
      "25 Mbps: 0 valores nulos\n",
      "25,1 Mbps: 0 valores nulos\n",
      "25,11 Mbps: 0 valores nulos\n",
      "25,5 Mbps: 0 valores nulos\n",
      "26 Mbps: 0 valores nulos\n",
      "27 Mbps: 0 valores nulos\n",
      "28 Mbps: 0 valores nulos\n",
      "29 Mbps: 0 valores nulos\n",
      "30 Mbps: 0 valores nulos\n",
      "31 Mbps: 0 valores nulos\n",
      "32 Mbps: 0 valores nulos\n",
      "34 Mbps: 0 valores nulos\n",
      "35 Mbps: 0 valores nulos\n",
      "36 Mbps: 0 valores nulos\n",
      "37 Mbps: 0 valores nulos\n",
      "38 Mbps: 0 valores nulos\n",
      "39 Mbps: 0 valores nulos\n",
      "40 Mbps: 0 valores nulos\n",
      "41 Mbps: 0 valores nulos\n",
      "45 Mbps: 0 valores nulos\n",
      "46 Mbps: 0 valores nulos\n",
      "47 Mbps: 0 valores nulos\n",
      "48 Mbps: 0 valores nulos\n",
      "49 Mbps: 0 valores nulos\n",
      "50 Mbps: 0 valores nulos\n",
      "50,1 Mbps: 0 valores nulos\n",
      "51 Mbps: 0 valores nulos\n",
      "50,25 Mbps: 0 valores nulos\n",
      "52 Mbps: 0 valores nulos\n",
      "54 Mbps: 0 valores nulos\n",
      "55 Mbps: 0 valores nulos\n",
      "56 Mbps: 0 valores nulos\n",
      "58 Mbps: 0 valores nulos\n",
      "59 Mbps: 0 valores nulos\n",
      "60 Mbps: 0 valores nulos\n",
      "61 Mbps: 0 valores nulos\n",
      "62 Mbps: 0 valores nulos\n",
      "63 Mbps: 0 valores nulos\n",
      "64 Mbps: 0 valores nulos\n",
      "65 Mbps: 0 valores nulos\n",
      "66 Mbps: 0 valores nulos\n",
      "67 Mbps: 0 valores nulos\n",
      "68 Mbps: 0 valores nulos\n",
      "70 Mbps: 0 valores nulos\n",
      "71 Mbps: 0 valores nulos\n",
      "75 Mbps: 0 valores nulos\n",
      "77 Mbps: 0 valores nulos\n"
     ]
    }
   ],
   "source": [
    "# Eliminare las filas con valores nulos \n",
    "df10_interpor_velobajaprovincia.dropna(inplace=True)\n",
    "\n",
    "# Visualizó\n",
    "data_inspeccion(df10_interpor_velobajaprovincia)"
   ]
  },
  {
   "cell_type": "code",
   "execution_count": 105,
   "metadata": {},
   "outputs": [
    {
     "data": {
      "text/plain": [
       "0"
      ]
     },
     "execution_count": 105,
     "metadata": {},
     "output_type": "execute_result"
    }
   ],
   "source": [
    "df10_interpor_velobajaprovincia.duplicated().sum() # veo si tiene duplicados"
   ]
  },
  {
   "cell_type": "code",
   "execution_count": 84,
   "metadata": {},
   "outputs": [],
   "source": [
    "df11_internet_fijobajadalocalid= pd.read_csv('.\\csvs\\Internetfijoporvelocidaddebajadaylocalidad.csv') # Lectura del undécimo Dataframe"
   ]
  },
  {
   "cell_type": "code",
   "execution_count": 85,
   "metadata": {},
   "outputs": [
    {
     "data": {
      "text/html": [
       "<div>\n",
       "<style scoped>\n",
       "    .dataframe tbody tr th:only-of-type {\n",
       "        vertical-align: middle;\n",
       "    }\n",
       "\n",
       "    .dataframe tbody tr th {\n",
       "        vertical-align: top;\n",
       "    }\n",
       "\n",
       "    .dataframe thead th {\n",
       "        text-align: right;\n",
       "    }\n",
       "</style>\n",
       "<table border=\"1\" class=\"dataframe\">\n",
       "  <thead>\n",
       "    <tr style=\"text-align: right;\">\n",
       "      <th></th>\n",
       "      <th>Provincia</th>\n",
       "      <th>Partido</th>\n",
       "      <th>Localidad</th>\n",
       "      <th>Link Indec</th>\n",
       "      <th>Otros</th>\n",
       "      <th>0,256 Mbps</th>\n",
       "      <th>0,375 Mbps</th>\n",
       "      <th>0,5 Mbps</th>\n",
       "      <th>0,512 Mbps</th>\n",
       "      <th>0,625 Mbps</th>\n",
       "      <th>...</th>\n",
       "      <th>61 Mbps</th>\n",
       "      <th>62 Mbps</th>\n",
       "      <th>64 Mbps</th>\n",
       "      <th>65 Mbps</th>\n",
       "      <th>66 Mbps</th>\n",
       "      <th>70 Mbps</th>\n",
       "      <th>75 Mbps</th>\n",
       "      <th>78 Mbps</th>\n",
       "      <th>80 Mbps</th>\n",
       "      <th>83 Mbps</th>\n",
       "    </tr>\n",
       "  </thead>\n",
       "  <tbody>\n",
       "    <tr>\n",
       "      <th>0</th>\n",
       "      <td>BUENOS AIRES</td>\n",
       "      <td>25 de Mayo</td>\n",
       "      <td>25 de Mayo</td>\n",
       "      <td>6854100</td>\n",
       "      <td>NaN</td>\n",
       "      <td>NaN</td>\n",
       "      <td>NaN</td>\n",
       "      <td>2.0</td>\n",
       "      <td>NaN</td>\n",
       "      <td>NaN</td>\n",
       "      <td>...</td>\n",
       "      <td>NaN</td>\n",
       "      <td>NaN</td>\n",
       "      <td>NaN</td>\n",
       "      <td>NaN</td>\n",
       "      <td>NaN</td>\n",
       "      <td>NaN</td>\n",
       "      <td>NaN</td>\n",
       "      <td>NaN</td>\n",
       "      <td>12.0</td>\n",
       "      <td>NaN</td>\n",
       "    </tr>\n",
       "    <tr>\n",
       "      <th>1</th>\n",
       "      <td>BUENOS AIRES</td>\n",
       "      <td>25 de Mayo</td>\n",
       "      <td>Agustín Mosconi</td>\n",
       "      <td>6854010</td>\n",
       "      <td>NaN</td>\n",
       "      <td>NaN</td>\n",
       "      <td>NaN</td>\n",
       "      <td>NaN</td>\n",
       "      <td>NaN</td>\n",
       "      <td>NaN</td>\n",
       "      <td>...</td>\n",
       "      <td>NaN</td>\n",
       "      <td>NaN</td>\n",
       "      <td>NaN</td>\n",
       "      <td>NaN</td>\n",
       "      <td>NaN</td>\n",
       "      <td>NaN</td>\n",
       "      <td>NaN</td>\n",
       "      <td>NaN</td>\n",
       "      <td>NaN</td>\n",
       "      <td>NaN</td>\n",
       "    </tr>\n",
       "    <tr>\n",
       "      <th>2</th>\n",
       "      <td>BUENOS AIRES</td>\n",
       "      <td>25 de Mayo</td>\n",
       "      <td>Del Valle</td>\n",
       "      <td>6854020</td>\n",
       "      <td>NaN</td>\n",
       "      <td>NaN</td>\n",
       "      <td>NaN</td>\n",
       "      <td>1.0</td>\n",
       "      <td>NaN</td>\n",
       "      <td>NaN</td>\n",
       "      <td>...</td>\n",
       "      <td>NaN</td>\n",
       "      <td>NaN</td>\n",
       "      <td>NaN</td>\n",
       "      <td>NaN</td>\n",
       "      <td>NaN</td>\n",
       "      <td>NaN</td>\n",
       "      <td>NaN</td>\n",
       "      <td>NaN</td>\n",
       "      <td>NaN</td>\n",
       "      <td>NaN</td>\n",
       "    </tr>\n",
       "    <tr>\n",
       "      <th>3</th>\n",
       "      <td>BUENOS AIRES</td>\n",
       "      <td>25 de Mayo</td>\n",
       "      <td>Ernestina</td>\n",
       "      <td>6854030</td>\n",
       "      <td>NaN</td>\n",
       "      <td>NaN</td>\n",
       "      <td>NaN</td>\n",
       "      <td>NaN</td>\n",
       "      <td>NaN</td>\n",
       "      <td>NaN</td>\n",
       "      <td>...</td>\n",
       "      <td>NaN</td>\n",
       "      <td>NaN</td>\n",
       "      <td>NaN</td>\n",
       "      <td>NaN</td>\n",
       "      <td>NaN</td>\n",
       "      <td>NaN</td>\n",
       "      <td>NaN</td>\n",
       "      <td>NaN</td>\n",
       "      <td>NaN</td>\n",
       "      <td>NaN</td>\n",
       "    </tr>\n",
       "    <tr>\n",
       "      <th>4</th>\n",
       "      <td>BUENOS AIRES</td>\n",
       "      <td>25 de Mayo</td>\n",
       "      <td>Gobernador Ugarte</td>\n",
       "      <td>6854040</td>\n",
       "      <td>NaN</td>\n",
       "      <td>NaN</td>\n",
       "      <td>NaN</td>\n",
       "      <td>NaN</td>\n",
       "      <td>NaN</td>\n",
       "      <td>NaN</td>\n",
       "      <td>...</td>\n",
       "      <td>NaN</td>\n",
       "      <td>NaN</td>\n",
       "      <td>NaN</td>\n",
       "      <td>1.0</td>\n",
       "      <td>NaN</td>\n",
       "      <td>NaN</td>\n",
       "      <td>NaN</td>\n",
       "      <td>NaN</td>\n",
       "      <td>NaN</td>\n",
       "      <td>NaN</td>\n",
       "    </tr>\n",
       "  </tbody>\n",
       "</table>\n",
       "<p>5 rows × 83 columns</p>\n",
       "</div>"
      ],
      "text/plain": [
       "      Provincia     Partido          Localidad Link Indec  Otros  0,256 Mbps  \\\n",
       "0  BUENOS AIRES  25 de Mayo         25 de Mayo    6854100    NaN         NaN   \n",
       "1  BUENOS AIRES  25 de Mayo    Agustín Mosconi    6854010    NaN         NaN   \n",
       "2  BUENOS AIRES  25 de Mayo          Del Valle    6854020    NaN         NaN   \n",
       "3  BUENOS AIRES  25 de Mayo          Ernestina    6854030    NaN         NaN   \n",
       "4  BUENOS AIRES  25 de Mayo  Gobernador Ugarte    6854040    NaN         NaN   \n",
       "\n",
       "   0,375 Mbps  0,5 Mbps  0,512 Mbps  0,625 Mbps  ...  61 Mbps  62 Mbps  \\\n",
       "0         NaN       2.0         NaN         NaN  ...      NaN      NaN   \n",
       "1         NaN       NaN         NaN         NaN  ...      NaN      NaN   \n",
       "2         NaN       1.0         NaN         NaN  ...      NaN      NaN   \n",
       "3         NaN       NaN         NaN         NaN  ...      NaN      NaN   \n",
       "4         NaN       NaN         NaN         NaN  ...      NaN      NaN   \n",
       "\n",
       "   64 Mbps  65 Mbps  66 Mbps  70 Mbps  75 Mbps  78 Mbps  80 Mbps  83 Mbps  \n",
       "0      NaN      NaN      NaN      NaN      NaN      NaN     12.0      NaN  \n",
       "1      NaN      NaN      NaN      NaN      NaN      NaN      NaN      NaN  \n",
       "2      NaN      NaN      NaN      NaN      NaN      NaN      NaN      NaN  \n",
       "3      NaN      NaN      NaN      NaN      NaN      NaN      NaN      NaN  \n",
       "4      NaN      1.0      NaN      NaN      NaN      NaN      NaN      NaN  \n",
       "\n",
       "[5 rows x 83 columns]"
      ]
     },
     "execution_count": 85,
     "metadata": {},
     "output_type": "execute_result"
    }
   ],
   "source": [
    "df11_internet_fijobajadalocalid.head() # Visualizo las primeras filas"
   ]
  },
  {
   "cell_type": "code",
   "execution_count": 86,
   "metadata": {},
   "outputs": [
    {
     "name": "stdout",
     "output_type": "stream",
     "text": [
      "<class 'pandas.core.frame.DataFrame'>\n",
      "RangeIndex: 3095 entries, 0 to 3094\n",
      "Data columns (total 83 columns):\n",
      " #   Column      Non-Null Count  Dtype  \n",
      "---  ------      --------------  -----  \n",
      " 0   Provincia   3095 non-null   object \n",
      " 1   Partido     3095 non-null   object \n",
      " 2   Localidad   3095 non-null   object \n",
      " 3   Link Indec  3095 non-null   object \n",
      " 4   Otros       962 non-null    float64\n",
      " 5   0,256 Mbps  28 non-null     float64\n",
      " 6   0,375 Mbps  1 non-null      float64\n",
      " 7   0,5 Mbps    643 non-null    float64\n",
      " 8   0,512 Mbps  523 non-null    float64\n",
      " 9   0,625 Mbps  1 non-null      float64\n",
      " 10  0,75 Mbps   284 non-null    float64\n",
      " 11  1 Mbps      891 non-null    float64\n",
      " 12  1,25 Mbps   1 non-null      float64\n",
      " 13  1,5 Mbps    15 non-null     float64\n",
      " 14  2 Mbps      722 non-null    float64\n",
      " 15  2,2 Mbps    1 non-null      float64\n",
      " 16  2,5 Mbps    4 non-null      float64\n",
      " 17  3 Mbps      1351 non-null   float64\n",
      " 18  3,3 Mbps    1 non-null      float64\n",
      " 19  3,5 Mbps    373 non-null    float64\n",
      " 20  4 Mbps      534 non-null    float64\n",
      " 21  4,5 Mbps    1 non-null      float64\n",
      " 22  5 Mbps      1003 non-null   float64\n",
      " 23  6 Mbps      1413 non-null   float64\n",
      " 24  6,4 Mbps    1 non-null      float64\n",
      " 25  7 Mbps      225 non-null    float64\n",
      " 26  7,5 Mbps    4 non-null      float64\n",
      " 27  8 Mbps      630 non-null    float64\n",
      " 28  9 Mbps      50 non-null     float64\n",
      " 29  10 Mbps     1731 non-null   float64\n",
      " 30  10,2 Mbps   1 non-null      float64\n",
      " 31  11 Mbps     27 non-null     float64\n",
      " 32  12 Mbps     306 non-null    float64\n",
      " 33  12,3 Mbps   1 non-null      float64\n",
      " 34  13 Mbps     16 non-null     float64\n",
      " 35  14 Mbps     24 non-null     float64\n",
      " 36  15 Mbps     1061 non-null   float64\n",
      " 37  16 Mbps     16 non-null     float64\n",
      " 38  17 Mbps     1 non-null      float64\n",
      " 39  18 Mbps     20 non-null     float64\n",
      " 40  20 Mbps     1106 non-null   float64\n",
      " 41  20,5 Mbps   1 non-null      float64\n",
      " 42  21 Mbps     5 non-null      float64\n",
      " 43  22 Mbps     2 non-null      float64\n",
      " 44  23 Mbps     2 non-null      float64\n",
      " 45  24 Mbps     19 non-null     float64\n",
      " 46  25 Mbps     457 non-null    float64\n",
      " 47  25,1 Mbps   1 non-null      float64\n",
      " 48  25,5 Mbps   1 non-null      float64\n",
      " 49  26 Mbps     1 non-null      float64\n",
      " 50  27 Mbps     1 non-null      float64\n",
      " 51  30 Mbps     724 non-null    float64\n",
      " 52  31 Mbps     4 non-null      float64\n",
      " 53  32 Mbps     2 non-null      float64\n",
      " 54  34 Mbps     1 non-null      float64\n",
      " 55  35 Mbps     13 non-null     float64\n",
      " 56  36 Mbps     3 non-null      float64\n",
      " 57  38 Mbps     1 non-null      float64\n",
      " 58  39 Mbps     1 non-null      float64\n",
      " 59  40 Mbps     98 non-null     float64\n",
      " 60  41 Mbps     1 non-null      float64\n",
      " 61  45 Mbps     3 non-null      float64\n",
      " 62  46 Mbps     1 non-null      float64\n",
      " 63  48 Mbps     4 non-null      float64\n",
      " 64  49 Mbps     1 non-null      float64\n",
      " 65  50 Mbps     692 non-null    float64\n",
      " 66  50,1 Mbps   1 non-null      float64\n",
      " 67  50,25 Mbps  1 non-null      float64\n",
      " 68  51 Mbps     2 non-null      float64\n",
      " 69  55 Mbps     3 non-null      float64\n",
      " 70  58 Mbps     1 non-null      float64\n",
      " 71  59 Mbps     1 non-null      float64\n",
      " 72  60 Mbps     261 non-null    float64\n",
      " 73  61 Mbps     3 non-null      float64\n",
      " 74  62 Mbps     1 non-null      float64\n",
      " 75  64 Mbps     1 non-null      float64\n",
      " 76  65 Mbps     2 non-null      float64\n",
      " 77  66 Mbps     1 non-null      float64\n",
      " 78  70 Mbps     17 non-null     float64\n",
      " 79  75 Mbps     231 non-null    float64\n",
      " 80  78 Mbps     1 non-null      float64\n",
      " 81  80 Mbps     31 non-null     float64\n",
      " 82  83 Mbps     1 non-null      float64\n",
      "dtypes: float64(79), object(4)\n",
      "memory usage: 2.0+ MB\n"
     ]
    }
   ],
   "source": [
    "df11_internet_fijobajadalocalid.info()  # Hago un resumen de el Dataframe"
   ]
  },
  {
   "cell_type": "code",
   "execution_count": 106,
   "metadata": {},
   "outputs": [
    {
     "data": {
      "text/plain": [
       "0"
      ]
     },
     "execution_count": 106,
     "metadata": {},
     "output_type": "execute_result"
    }
   ],
   "source": [
    "df11_internet_fijobajadalocalid.duplicated().sum() # veo si tiene duplicados"
   ]
  },
  {
   "cell_type": "code",
   "execution_count": 91,
   "metadata": {},
   "outputs": [],
   "source": [
    "df12_listalocalidades= pd.read_csv('.\\csvs\\Listadodelocalidadesconconectividadainternet.csv') # Lectura del duodécimo Dataframe"
   ]
  },
  {
   "cell_type": "code",
   "execution_count": 92,
   "metadata": {},
   "outputs": [
    {
     "data": {
      "text/html": [
       "<div>\n",
       "<style scoped>\n",
       "    .dataframe tbody tr th:only-of-type {\n",
       "        vertical-align: middle;\n",
       "    }\n",
       "\n",
       "    .dataframe tbody tr th {\n",
       "        vertical-align: top;\n",
       "    }\n",
       "\n",
       "    .dataframe thead th {\n",
       "        text-align: right;\n",
       "    }\n",
       "</style>\n",
       "<table border=\"1\" class=\"dataframe\">\n",
       "  <thead>\n",
       "    <tr style=\"text-align: right;\">\n",
       "      <th></th>\n",
       "      <th>Provincia</th>\n",
       "      <th>Partido</th>\n",
       "      <th>Localidad</th>\n",
       "      <th>ADSL</th>\n",
       "      <th>Cablemódem</th>\n",
       "      <th>Dial Up</th>\n",
       "      <th>Fibra óptica</th>\n",
       "      <th>4G</th>\n",
       "      <th>3G</th>\n",
       "      <th>Telefonía Fija</th>\n",
       "      <th>Wireless</th>\n",
       "      <th>Satelital</th>\n",
       "    </tr>\n",
       "  </thead>\n",
       "  <tbody>\n",
       "    <tr>\n",
       "      <th>0</th>\n",
       "      <td>BUENOS AIRES</td>\n",
       "      <td>9 de Julio</td>\n",
       "      <td>Alfredo Demarchi (Est. Facundo Quiroga)</td>\n",
       "      <td>SI</td>\n",
       "      <td>--</td>\n",
       "      <td>--</td>\n",
       "      <td>--</td>\n",
       "      <td>SI</td>\n",
       "      <td>SI</td>\n",
       "      <td>SI</td>\n",
       "      <td>--</td>\n",
       "      <td>--</td>\n",
       "    </tr>\n",
       "    <tr>\n",
       "      <th>1</th>\n",
       "      <td>BUENOS AIRES</td>\n",
       "      <td>9 de Julio</td>\n",
       "      <td>Carlos María Naón</td>\n",
       "      <td>--</td>\n",
       "      <td>--</td>\n",
       "      <td>--</td>\n",
       "      <td>--</td>\n",
       "      <td>SI</td>\n",
       "      <td>SI</td>\n",
       "      <td>SI</td>\n",
       "      <td>--</td>\n",
       "      <td>--</td>\n",
       "    </tr>\n",
       "    <tr>\n",
       "      <th>2</th>\n",
       "      <td>BUENOS AIRES</td>\n",
       "      <td>9 de Julio</td>\n",
       "      <td>Dudignac</td>\n",
       "      <td>--</td>\n",
       "      <td>--</td>\n",
       "      <td>SI</td>\n",
       "      <td>--</td>\n",
       "      <td>SI</td>\n",
       "      <td>SI</td>\n",
       "      <td>SI</td>\n",
       "      <td>SI</td>\n",
       "      <td>--</td>\n",
       "    </tr>\n",
       "    <tr>\n",
       "      <th>3</th>\n",
       "      <td>BUENOS AIRES</td>\n",
       "      <td>9 de Julio</td>\n",
       "      <td>La Aurora (Est. La Niña)</td>\n",
       "      <td>--</td>\n",
       "      <td>--</td>\n",
       "      <td>--</td>\n",
       "      <td>--</td>\n",
       "      <td>SI</td>\n",
       "      <td>--</td>\n",
       "      <td>--</td>\n",
       "      <td>--</td>\n",
       "      <td>--</td>\n",
       "    </tr>\n",
       "    <tr>\n",
       "      <th>4</th>\n",
       "      <td>BUENOS AIRES</td>\n",
       "      <td>9 de Julio</td>\n",
       "      <td>Manuel B. Gonnet (Est. French)</td>\n",
       "      <td>SI</td>\n",
       "      <td>--</td>\n",
       "      <td>--</td>\n",
       "      <td>SI</td>\n",
       "      <td>SI</td>\n",
       "      <td>SI</td>\n",
       "      <td>SI</td>\n",
       "      <td>--</td>\n",
       "      <td>--</td>\n",
       "    </tr>\n",
       "  </tbody>\n",
       "</table>\n",
       "</div>"
      ],
      "text/plain": [
       "      Provincia     Partido                                Localidad ADSL  \\\n",
       "0  BUENOS AIRES  9 de Julio  Alfredo Demarchi (Est. Facundo Quiroga)   SI   \n",
       "1  BUENOS AIRES  9 de Julio                        Carlos María Naón   --   \n",
       "2  BUENOS AIRES  9 de Julio                                 Dudignac   --   \n",
       "3  BUENOS AIRES  9 de Julio                 La Aurora (Est. La Niña)   --   \n",
       "4  BUENOS AIRES  9 de Julio           Manuel B. Gonnet (Est. French)   SI   \n",
       "\n",
       "  Cablemódem Dial Up Fibra óptica  4G  3G Telefonía Fija Wireless Satelital  \n",
       "0         --      --           --  SI  SI             SI       --        --  \n",
       "1         --      --           --  SI  SI             SI       --        --  \n",
       "2         --      SI           --  SI  SI             SI       SI        --  \n",
       "3         --      --           --  SI  --             --       --        --  \n",
       "4         --      --           SI  SI  SI             SI       --        --  "
      ]
     },
     "execution_count": 92,
     "metadata": {},
     "output_type": "execute_result"
    }
   ],
   "source": [
    "df12_listalocalidades.head() # Veo las primeras filas"
   ]
  },
  {
   "cell_type": "code",
   "execution_count": 93,
   "metadata": {},
   "outputs": [
    {
     "name": "stdout",
     "output_type": "stream",
     "text": [
      "<class 'pandas.core.frame.DataFrame'>\n",
      "RangeIndex: 4311 entries, 0 to 4310\n",
      "Data columns (total 12 columns):\n",
      " #   Column          Non-Null Count  Dtype \n",
      "---  ------          --------------  ----- \n",
      " 0   Provincia       4311 non-null   object\n",
      " 1   Partido         4311 non-null   object\n",
      " 2   Localidad       4311 non-null   object\n",
      " 3   ADSL            4311 non-null   object\n",
      " 4   Cablemódem      4311 non-null   object\n",
      " 5   Dial Up         4311 non-null   object\n",
      " 6   Fibra óptica    4311 non-null   object\n",
      " 7   4G              4311 non-null   object\n",
      " 8   3G              4311 non-null   object\n",
      " 9   Telefonía Fija  4311 non-null   object\n",
      " 10  Wireless        4311 non-null   object\n",
      " 11  Satelital       4311 non-null   object\n",
      "dtypes: object(12)\n",
      "memory usage: 404.3+ KB\n"
     ]
    }
   ],
   "source": [
    "df12_listalocalidades.info() # Hago un resumen del Dataframe"
   ]
  },
  {
   "cell_type": "code",
   "execution_count": 94,
   "metadata": {},
   "outputs": [
    {
     "name": "stdout",
     "output_type": "stream",
     "text": [
      "Shape: (4311, 12)\n",
      "\n",
      "Datos faltantes:\n",
      "Provincia: 0 valores nulos\n",
      "Partido: 0 valores nulos\n",
      "Localidad: 0 valores nulos\n",
      "ADSL: 0 valores nulos\n",
      "Cablemódem: 0 valores nulos\n",
      "Dial Up: 0 valores nulos\n",
      "Fibra óptica: 0 valores nulos\n",
      "4G: 0 valores nulos\n",
      "3G: 0 valores nulos\n",
      "Telefonía Fija: 0 valores nulos\n",
      "Wireless: 0 valores nulos\n",
      "Satelital: 0 valores nulos\n"
     ]
    }
   ],
   "source": [
    "def data_inspeccion(variables_num):\n",
    "    print(f'Shape: {variables_num.shape}')\n",
    "    \n",
    "    '''Aplico la Funcion para observar \n",
    "        si tiene valores nulos.'''\n",
    "        \n",
    "    print(f'\\nDatos faltantes:')\n",
    "    for columna in variables_num.columns:\n",
    "        cantidad_nulos = variables_num[columna].isnull().sum()\n",
    "        print(f'{columna}: {cantidad_nulos} valores nulos')\n",
    "\n",
    "data_inspeccion(df12_listalocalidades)"
   ]
  },
  {
   "cell_type": "markdown",
   "metadata": {},
   "source": [
    "- En este Dataframe obtuve dos duplicados por lo que procedi a borrarlos."
   ]
  },
  {
   "cell_type": "code",
   "execution_count": 107,
   "metadata": {},
   "outputs": [
    {
     "data": {
      "text/plain": [
       "2"
      ]
     },
     "execution_count": 107,
     "metadata": {},
     "output_type": "execute_result"
    }
   ],
   "source": [
    "df12_listalocalidades.duplicated().sum() # veo si tiene duplicados"
   ]
  },
  {
   "cell_type": "code",
   "execution_count": 110,
   "metadata": {},
   "outputs": [],
   "source": [
    "df12_listalocalidades = df12_listalocalidades.drop_duplicates() # Borro los dos duplicados"
   ]
  },
  {
   "cell_type": "code",
   "execution_count": 111,
   "metadata": {},
   "outputs": [
    {
     "data": {
      "text/plain": [
       "0"
      ]
     },
     "execution_count": 111,
     "metadata": {},
     "output_type": "execute_result"
    }
   ],
   "source": [
    "df12_listalocalidades.duplicated().sum() # visualizo de nuevo."
   ]
  },
  {
   "cell_type": "markdown",
   "metadata": {},
   "source": [
    "### En el marco del análisis detallado sobre el comportamiento del sector de las telecomunicaciones a nivel nacional, se llevó a cabo un proceso de Extracción, Transformación y Carga (ETL) de 12 conjuntos de datos representativos. A pesar de que el proyecto inicialmente requería un Análisis Exploratorio de Datos (EDA), se consideró crucial realizar una limpieza y preparación a fondo de los datos para obtener resultados confiables y precisos. Esta acción adicional permitió disponer de datos depurados, eliminando duplicados, valores nulos y ajustando la consistencia de la información."
   ]
  }
 ],
 "metadata": {
  "kernelspec": {
   "display_name": "venv",
   "language": "python",
   "name": "python3"
  },
  "language_info": {
   "codemirror_mode": {
    "name": "ipython",
    "version": 3
   },
   "file_extension": ".py",
   "mimetype": "text/x-python",
   "name": "python",
   "nbconvert_exporter": "python",
   "pygments_lexer": "ipython3",
   "version": "3.11.5"
  }
 },
 "nbformat": 4,
 "nbformat_minor": 2
}
